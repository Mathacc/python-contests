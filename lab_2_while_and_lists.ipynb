{
 "cells": [
  {
   "cell_type": "markdown",
   "metadata": {},
   "source": [
    "# Lab 2 - while and lists"
   ]
  },
  {
   "cell_type": "markdown",
   "metadata": {},
   "source": [
    "## Collatz Conjecture\n",
    "\n",
    "The Collatz conjecture is based on the following algorithm:\n",
    "\n",
    "1. Take a positive integer number \\( m \\).\n",
    "2. If \\( m = 1 \\), the algorithm terminates.\n",
    "3. If \\( m \\) is even, divide it by 2 (integer division); if \\( m \\) is odd, multiply it by 3 and add 1.\n",
    "4. Start again with the new \\( m \\) updated as above.\n",
    "\n",
    "The conjecture, yet unproven, states this algorithm always terminates.\n",
    "\n",
    "### Task\n",
    "\n",
    "Write a function `collatz(m)` that returns a list containing all the numbers of the Collatz sequence from \\( m \\) to 1.\n",
    "\n",
    "### Examples\n",
    "\n",
    "| Test | Result |\n",
    "|------|--------|\n",
    "| `print(collatz(19))` | `[19, 58, 29, 88, 44, 22, 11, 34, 17, 52, 26, 13, 40, 20, 10, 5, 16, 8, 4, 2, 1]` |\n",
    "| `print(collatz(0))` | `[]` |\n",
    "| `print(collatz(1))` | `[1]` |\n",
    "| `print(collatz(2))` | `[2, 1]` |\n",
    "| `print(collatz(3))` | `[3, 10, 5, 16, 8, 4, 2, 1]` |\n",
    "| `print(collatz(4))` | `[4, 2, 1]` |\n",
    "| `print(collatz(73))` | `[73, 220, 110, 55, 166, 83, 250, 125, 376, 188, 94, 47, 142, 71, 214, 107, 322, 161, 484, 242, 121, 364, 182, 91, 274, 137, 412, 206, 103, 310, 155, 466, 233, 700, 350, 175, 526, 263, 790, 395, 1186, 593, 1780, 890, 445, 1336, 668, 334, 167, 502, 251, 754, 377, 1132, 566, 283, 850, 425, 1276, 638, 319, 958, 479, 1438, 719, 2158, 1079, 3238, 1619, 4858, 2429, 7288, 3644, 1822, 911, 2734, 1367, 4102, 2051, 6154, 3077, 9232, 4616, 2308, 1154, 577, 1732, 866, 433, 1300, 650, 325, 976, 488, 244, 122, 61, 184, 92, 46, 23, 70, 35, 106, 53, 160, 80, 40, 20, 10, 5, 16, 8, 4, 2, 1]` |"
   ]
  },
  {
   "cell_type": "code",
   "execution_count": 2,
   "metadata": {},
   "outputs": [],
   "source": [
    "def collatz(m):\n",
    "    if m == 0:\n",
    "        return []\n",
    "    result = [m]\n",
    "    while m != 1:\n",
    "        if m % 2 == 0:\n",
    "            m = m // 2\n",
    "        else:\n",
    "            m = m * 3 + 1\n",
    "        result.append(m)\n",
    "    return result"
   ]
  },
  {
   "cell_type": "code",
   "execution_count": 3,
   "metadata": {},
   "outputs": [
    {
     "name": "stdout",
     "output_type": "stream",
     "text": [
      "[19, 58, 29, 88, 44, 22, 11, 34, 17, 52, 26, 13, 40, 20, 10, 5, 16, 8, 4, 2, 1]\n",
      "[]\n",
      "[1]\n",
      "[2, 1]\n",
      "[3, 10, 5, 16, 8, 4, 2, 1]\n",
      "[4, 2, 1]\n",
      "[73, 220, 110, 55, 166, 83, 250, 125, 376, 188, 94, 47, 142, 71, 214, 107, 322, 161, 484, 242, 121, 364, 182, 91, 274, 137, 412, 206, 103, 310, 155, 466, 233, 700, 350, 175, 526, 263, 790, 395, 1186, 593, 1780, 890, 445, 1336, 668, 334, 167, 502, 251, 754, 377, 1132, 566, 283, 850, 425, 1276, 638, 319, 958, 479, 1438, 719, 2158, 1079, 3238, 1619, 4858, 2429, 7288, 3644, 1822, 911, 2734, 1367, 4102, 2051, 6154, 3077, 9232, 4616, 2308, 1154, 577, 1732, 866, 433, 1300, 650, 325, 976, 488, 244, 122, 61, 184, 92, 46, 23, 70, 35, 106, 53, 160, 80, 40, 20, 10, 5, 16, 8, 4, 2, 1]\n"
     ]
    }
   ],
   "source": [
    "# Test cases\n",
    "print(collatz(19))  # [19, 58, 29, 88, 44, 22, 11, 34, 17, 52, 26, 13, 40, 20, 10, 5, 16, 8, 4, 2, 1]\n",
    "print(collatz(0))   # []\n",
    "print(collatz(1))   # [1]\n",
    "print(collatz(2))   # [2, 1]\n",
    "print(collatz(3))   # [3, 10, 5, 16, 8, 4, 2, 1]\n",
    "print(collatz(4))   # [4, 2, 1]\n",
    "print(collatz(73))  # [73, 220, 110, 55, 166, 83, 250, 125, 376, 188, 94, 47, 142, 71, 214, 107, 322, 161, 484, 242, 121, 364, 182, 91, 274, 137, 412, 206, 103, 310, 155, 466, 233, 700, 350, 175, 526, 263, 790, 395, 1186, 593, 1780, 890, 445, 1336, 668, 334, 167, 502, 251, 754, 377, 1132, 566, 283, 850, 425, 1276, 638, 319, 958, 479, 1438, 719, 2158, 1079, 3238, 1619, 4858, 2429, 7288, 3644, 1822, 911, 2734, 1367, 4102, 2051, 6154, 3077, 9232, 4616, 2308, 1154, 577, 1732, 866, 433, 1300, 650, 325, 976, 488, 244, 122, 61, 184, 92, 46, 23, 70, 35, 106, 53, 160, 80, 40, 20, 10, 5, 16, 8, 4, 2, 1]"
   ]
  },
  {
   "cell_type": "markdown",
   "metadata": {},
   "source": [
    "## Task\n",
    "\n",
    "Write a function `increasing(L)` that checks if a list `L` is sorted in ascending order (`<=`).\n",
    "\n",
    "Suppose that `L` is a list and contains objects that can be ordered, without checking.\n",
    "\n",
    "Then, write a function `join_ordered(L1, L2)` which takes as parameters two lists ordered in ascending order (check it using the `increasing` function), creates and returns a third one, also ordered, from the union of the two.\n",
    "\n",
    "If at least one of the two lists is not in ascending order, return `None`.\n",
    "\n",
    "Do not use the `sort` function (or analogous, e.g. `sorted`) - for us to check this, you are not allowed in this test to use any words (even in comments) containing the substring `sort`.\n",
    "\n",
    "### Examples\n",
    "\n",
    "| Test | Result |\n",
    "|------|--------|\n",
    "| `print(join_ordered([3,1,2], [1,2,3]))` | `None` |\n",
    "| `print(join_ordered([3,1,2], [1,2,3]))` | `None` |\n",
    "| `print(join_ordered([], []))` | `[]` |\n",
    "| `print(join_ordered([1,3,5], []))` | `[1, 3, 5]` |\n",
    "| `print(join_ordered([], [1,3,6]))` | `[1, 3, 6]` |\n",
    "| `print(join_ordered([1,3,5], [0,2,4,6,8,10]))` | `[0, 1, 2, 3, 4, 5, 6, 8, 10]` |\n",
    "| `print(join_ordered([100], list(range(1,99,3))))` | `[1, 4, 7, 10, 13, 16, 19, 22, 25, 28, 31, 34, 37, 40, 43, 46, 49, 52, 55, 58, 61, 64, 67, 70, 73, 76, 79, 82, 85, 88, 91, 94, 97, 100]` |\n",
    "| `print(join_ordered([1,3,5], [100,300,500]))` | `[1, 3, 5, 100, 300, 500]` |"
   ]
  },
  {
   "cell_type": "code",
   "execution_count": 8,
   "metadata": {},
   "outputs": [],
   "source": [
    "def increasing(L):\n",
    "    return all(L[i] < L[i + 1] for i in range(len(L) - 1))\n",
    "\n",
    "assert increasing([1, 2, 3, 4, 5]) == True"
   ]
  },
  {
   "cell_type": "code",
   "execution_count": 11,
   "metadata": {},
   "outputs": [],
   "source": [
    "def bubble(L):\n",
    "    while not increasing(L):\n",
    "        for i in range(len(L) - 1):\n",
    "            if L[i] > L[i + 1]:\n",
    "                L[i], L[i + 1] = L[i + 1], L[i]\n",
    "    return L\n",
    "def join_ordered(L1, L2):\n",
    "    if increasing(L1) and increasing(L2):\n",
    "        return bubble(L1 + L2)\n",
    "    return None\n",
    "assert join_ordered([1, 2, 3], [4, 5]) == [1, 2, 3, 4, 5]\n",
    "assert join_ordered([1, 2, 3], [5, 4]) == None\n",
    "assert join_ordered([], []) == []\n",
    "assert join_ordered([1,3,5], [0,2,4,6,8,10]) == [0, 1, 2, 3, 4, 5, 6, 8, 10]"
   ]
  },
  {
   "cell_type": "code",
   "execution_count": null,
   "metadata": {},
   "outputs": [],
   "source": []
  },
  {
   "cell_type": "markdown",
   "metadata": {},
   "source": [
    "## Task\n",
    "\n",
    "Write a function `contiguous(L)` that takes a list `L` as a parameter and creates and returns a new list with values taken from `L` - in which a series of equal contiguous values is replaced by one single entry of the value followed by the number of occurrences of the equal contiguous values in `L`.\n",
    "\n",
    "### Examples\n",
    "\n",
    "| Test | Result |\n",
    "|------|--------|\n",
    "| `print(contiguous(['a','b','b','z','o','o','b','b','b','b','k']))` | `['a', 'b', 2, 'z', 'o', 2, 'b', 4, 'k']` |\n",
    "| `print(contiguous([]))` | `[]` |\n",
    "| `print(contiguous([1,2,3,4,5]))` | `[1, 2, 3, 4, 5]` |\n",
    "| `print(contiguous(['a','b','c','d']))` | `['a', 'b', 'c', 'd']` |\n",
    "| `print(contiguous([0, 0, 0, 0, 0, 0, 0, 0, 0, 0, 0, 0, 0, 0, 0, 0, 0, 0, 0, 0]))` | `[0, 20]` |\n",
    "| `print(contiguous([7,7, 8, 8, 5, 5]))` | `[7, 2, 8, 2, 5, 2]` |\n"
   ]
  },
  {
   "cell_type": "code",
   "execution_count": 27,
   "metadata": {},
   "outputs": [],
   "source": [
    "def contiguous(L):\n",
    "    if not L:\n",
    "        return []\n",
    "    result = []\n",
    "    count = 1\n",
    "    current = L[0]\n",
    "    for i in range(1,len(L)):\n",
    "        if L[i] == current:\n",
    "            count += 1\n",
    "        else:\n",
    "            result.append(current)\n",
    "            if count > 1:\n",
    "                result.append(count)\n",
    "            current = L[i]\n",
    "            count = 1\n",
    "    result.append(current)\n",
    "    if count > 1:\n",
    "        result.append(count)\n",
    "    return result\n",
    "assert contiguous(['a','b','b','z','o','o','b','b','b','b','k']) == ['a', 'b', 2, 'z', 'o', 2, 'b', 4, 'k']\n",
    "assert contiguous([]) == []\n",
    "assert contiguous(['a','a','a','a','a']) == ['a', 5]"
   ]
  },
  {
   "cell_type": "code",
   "execution_count": 26,
   "metadata": {},
   "outputs": [
    {
     "name": "stdout",
     "output_type": "stream",
     "text": [
      "['a']\n"
     ]
    }
   ],
   "source": [
    "print(contiguous(['a','a','a','a','a']))"
   ]
  },
  {
   "cell_type": "markdown",
   "metadata": {},
   "source": [
    "## Task\n",
    "\n",
    "Write a function `contiguous_inplace(L)` that (analogously to the previous exercise) takes a list `L` as a parameter and modifies the list `L` such that a series of equal contiguous values is replaced by one single entry of the value followed by the number of occurrences of the equal contiguous values in `L`.\n",
    "\n",
    "The function does not return anything. It modifies `L` without modifying the `id` and without using auxiliary structures like other lists or tuples.\n",
    "\n",
    "To check that the modified list is actually the same as the one passed as a parameter, the test will check that the `id` (of the two lists) match, and that list `L` has been modified correctly. However, you will not see any results in the automatic tests. A possible test to do in Thonny is the following:\n",
    "\n",
    "```python\n",
    "A = ['a','b','b','z','o','o','b','b','b','b','k']\n",
    "AR = ['a', 'b', 2, 'z', 'o', 2, 'b', 4, 'k']\n",
    "id_before = id(A)\n",
    "contiguous_inplace(A)\n",
    "print((id_before == id(A)) and (A == AR))\n",
    "```"
   ]
  },
  {
   "cell_type": "code",
   "execution_count": 28,
   "metadata": {},
   "outputs": [
    {
     "name": "stdout",
     "output_type": "stream",
     "text": [
      "['a', 'b', 2, 'z', 'o', 2, 'b', 4, 'k']\n"
     ]
    }
   ],
   "source": [
    "def contiguous_inplace(L):\n",
    "    if not L:\n",
    "        return\n",
    "    \n",
    "    write_index = 0\n",
    "    count = 1\n",
    "    current = L[0]\n",
    "    \n",
    "    for i in range(1, len(L)):\n",
    "        if L[i] == current:\n",
    "            count += 1\n",
    "        else:\n",
    "            L[write_index] = current\n",
    "            write_index += 1\n",
    "            if count > 1:\n",
    "                L[write_index] = count\n",
    "                write_index += 1\n",
    "            current = L[i]\n",
    "            count = 1\n",
    "    \n",
    "    L[write_index] = current\n",
    "    write_index += 1\n",
    "    if count > 1:\n",
    "        L[write_index] = count\n",
    "        write_index += 1\n",
    "    \n",
    "    # Remove the remaining elements\n",
    "    del L[write_index:]\n",
    "\n",
    "# Test case\n",
    "A = ['a','b','b','z','o','o','b','b','b','b','k']\n",
    "contiguous_inplace(A)\n",
    "print(A)  # ['a', 'b', 2, 'z', 'o', 2, 'b', 4, 'k']"
   ]
  },
  {
   "cell_type": "markdown",
   "metadata": {},
   "source": [
    "## Task\n",
    "\n",
    "Write a Python program (not a function!) that asks the user for non-negative integers that represent measurements of the daily amount of rain.\n",
    "\n",
    "When the user enters the value `99999`, the program prints the average of the numbers received before that value.\n",
    "If the user enters negative numbers, they are ignored.\n",
    "\n",
    "The system will automatically input some values (shown, one at a time) to test your program.\n",
    "\n",
    "### Requirements\n",
    "\n",
    "- The input descriptive string should be exactly `R:` (with no blank spaces: hence you should use `input(\"R:\")`).\n",
    "- The output should be the print of a float, mandatory rounded using the `round` function to two decimal digits, without any other characters.\n",
    "- If there is no valid input, the program does not print anything.\n",
    "- In this exercise, you are allowed, and required, to use `print`.\n",
    "\n",
    "### Examples\n",
    "\n",
    "| Test | Input | Result |\n",
    "|------|-------|--------|\n",
    "| pass | 99999 | `R:` |\n",
    "| pass | 25<br>75<br>-3<br>50<br>50<br>99999 | `R:R:R:R:R:R:50.0` |\n",
    "| pass | -3<br>-3<br>-10<br>99999 | `R:R:R:R:` |\n",
    "| pass | 100<br>200<br>0<br>45<br>-3<br>59<br>700<br>80<br>45<br>-100<br>-100<br>99999 | `R:R:R:R:R:R:R:R:R:R:R:R:153.62` |"
   ]
  },
  {
   "cell_type": "code",
   "execution_count": 44,
   "metadata": {},
   "outputs": [
    {
     "name": "stdout",
     "output_type": "stream",
     "text": [
      "40.0\n"
     ]
    }
   ],
   "source": [
    "current_sum = 0\n",
    "index = 0\n",
    "\n",
    "while True:\n",
    "    inputed_value = int(input(\"R:\"))\n",
    "    if inputed_value == 99999:\n",
    "        if index > 0:\n",
    "            print(round(current_sum / index, 2))\n",
    "        break\n",
    "    elif inputed_value >= 0:\n",
    "        current_sum += inputed_value\n",
    "        index += 1"
   ]
  },
  {
   "cell_type": "code",
   "execution_count": 39,
   "metadata": {},
   "outputs": [
    {
     "name": "stdout",
     "output_type": "stream",
     "text": [
      "<class 'int'>\n"
     ]
    }
   ],
   "source": [
    "inputed_value = input(\"R:\")\n",
    "inputed_value = int(inputed_value)\n",
    "print(type(inputed_value))"
   ]
  },
  {
   "cell_type": "markdown",
   "metadata": {},
   "source": [
    "Write a repeat_numbers(L) function which, given a list of natural numbers (assume they are greater or equal to 0, without checking), returns a new list in which the same elements of the list appear as parameter and in the same order, but each element of the list is repeated the number of times corresponding to the element (e.g. 0 will be repeated zero times, 1 once, 2 twice and so on).\n",
    "For example:\n",
    "\n",
    "| Test | Result |\n",
    "|------|--------|\n",
    "| `print(repeat_numbers([2,1,0,3,1,2]))` | `[2, 2, 1, 3, 3, 3, 1, 2, 2]` |\n",
    "| `print(repeat_numbers([3,0,2,4]))` | `[3, 3, 3, 2, 2, 4, 4, 4, 4]` |\n",
    "| `print(repeat_numbers([4,3,1]))` | `[4, 4, 4, 4, 3, 3, 3, 1]` |\n",
    "| `print(repeat_numbers([]))` | `[]` |\n",
    "| `print(repeat_numbers([2,8,0]))` | `[2, 2, 8, 8, 8, 8, 8, 8, 8, 8]` |\n"
   ]
  },
  {
   "cell_type": "code",
   "execution_count": 46,
   "metadata": {},
   "outputs": [],
   "source": [
    "def repeat_numbers(L):\n",
    "    result = []\n",
    "    for i in range(len(L)):\n",
    "        for j in range(L[i]):\n",
    "            result.append(L[i])\n",
    "    return result\n",
    "assert repeat_numbers([1, 2, 3]) == [1, 2, 2, 3, 3, 3]\n",
    "assert repeat_numbers([0, 0, 0]) == []"
   ]
  },
  {
   "cell_type": "markdown",
   "metadata": {},
   "source": [
    "Write a function ```repeat_inplace(L)``` similar to the previous exercise, but change the list passed as a parameter, without returning it. Do not create new lists (or other structures).\n",
    "\n",
    "\n",
    "P.S. To check that the modified list is actually the same as passed as a parameter, the test will check that the id (of the two lists) match, and that list L has been modified correctly. However, you will not see any results in automatic tests. A possible test to be performed in Thonny is the following\n",
    "```python\n",
    "A = [3,0,2,4]\n",
    "AR = [3,3,3,2,2,4,4,4]\n",
    "id_prev = id(A)\n",
    "repeat_inplace(A)\n",
    "print((id_prev == id(A)) and (A == AR))"
   ]
  },
  {
   "cell_type": "code",
   "execution_count": 57,
   "metadata": {},
   "outputs": [
    {
     "name": "stdout",
     "output_type": "stream",
     "text": [
      "[3, 3, 3, 3, 3, 3, 3, 3, 3, 3, 3, 3]\n"
     ]
    }
   ],
   "source": [
    "def repeat_inplace(L):\n",
    "    original_length = len(L)\n",
    "    write_index = 0\n",
    "    for i in range(original_length):\n",
    "        for _ in range(L[write_index+i]):\n",
    "            L.insert(write_index, L[write_index+i])\n",
    "            write_index += 1\n",
    "    del L[write_index:]\n",
    "\n",
    "# Test case\n",
    "A = [3, 0, 2, 4]\n",
    "repeat_inplace(A)\n",
    "print(A)  # [3, 3, 3, 2, 2, 4, 4, 4]\n"
   ]
  },
  {
   "cell_type": "markdown",
   "metadata": {},
   "source": [
    "The tuple voc, already defined in the global environment, contains in alphabetical order the 1160 most common words in the Italian language, in the form of strings.\n",
    "## Task\n",
    "\n",
    "Write a `bin_search(word)` function that takes as parameter a word string (suppose it is a string without checking) and returns a tuple of two elements that contains, in order:\n",
    "\n",
    "1. The position of the string `word` in the tuple `voc` (i.e., the first element 'a' has position 0, the last 'zone' has position 1159), or -1 if `word` is not present in `voc`.\n",
    "2. The number of attempts the algorithm has made to find the location of `word`.\n",
    "\n",
    "Using the binary search algorithm.\n",
    "\n",
    "**N.B.!** If you copy this code to Thonny, the interface may be slowed down (especially on MacOS and Linux) due to the long tuple. You can test the program directly here on lab-info-mat. If you want to try it on Thonny, you can use (only on Thonny) a shorter tuple, then check that your solution continues to work once pasted below.\n",
    "\n",
    "### Examples\n",
    "\n",
    "| Test | Result |\n",
    "|------|--------|\n",
    "| `print(bin_search('a'))` | `(0, 11)` |\n",
    "| `print(bin_search('casa'))` | `(151, 11)` |\n",
    "| `print(bin_search('zona'))` | `(1159, 10)` |\n",
    "| `print(bin_search('Michael'))` | `(-1, 11)` |\n",
    "| `print(bin_search('bello'))` | `(112, 9)` |\n",
    "| `print(bin_search('voluttuoso'))` | `(-1, 10)` |\n",
    "| `print(bin_search('vero'))` | `(1127, 9)` |\n",
    "| `print(bin_search('medico'))` | `(584, 10)` |\n",
    "| `print(bin_search(''))` | `(-1, 11)` |\n"
   ]
  },
  {
   "cell_type": "code",
   "execution_count": 79,
   "metadata": {},
   "outputs": [
    {
     "name": "stdout",
     "output_type": "stream",
     "text": [
      "(-1, 10)\n"
     ]
    }
   ],
   "source": [
    "voc = ('a', 'abbandonare', 'abbastanza', 'abitare', 'abito', 'accadere', 'accanto', 'accendere', 'accettare', 'accogliere', 'accompagnare', 'accordo', 'accorgersi', 'acqua', 'addirittura', 'addosso', 'adesso', 'affare', 'affatto', 'affermare', 'affrontare', 'aggiungere', 'ah', 'aiutare', 'aiuto', 'albergo', 'albero', 'alcuno', 'allontanare', 'allora', 'almeno', 'alto', 'altro', 'alzare', 'amare', 'ambiente', 'americano', 'amico', 'ammazzare', 'ammettere', 'amore', 'ampio', 'anche', 'ancora', 'andare', 'angolo', 'anima', 'animale', 'animo', 'anno', 'annunciare', 'antico', 'anzi', 'apparire', 'appartenere', 'appena', 'appoggiare', 'appunto', 'aprire', 'argomento', 'aria', 'arma', 'armare', 'arrestare', 'arrivare', 'arte', 'articolo', 'ascoltare', 'aspettare', 'aspetto', 'assai', 'assicurare', 'assistere', 'assoluto', 'assumere', 'attaccare', 'atteggiamento', 'attendere', 'attento', 'attenzione', 'attesa', 'attimo', 'attività', 'atto', 'attore', 'attorno', 'attraversare', 'attuale', 'aumentare', 'automobile', 'autore', 'autorità', 'avanti', 'avanzare', 'avere', 'avvenire', 'avvertire', 'avvicinare', 'avvocato', 'azione', 'azzurro', 'baciare', 'badare', 'bagno', 'bambina', 'bambino', 'base', 'basso', 'bastare', 'battaglia', 'battere', 'bellezza', 'bello', 'bene', 'bere', 'bestia', 'bianco', 'biondo', 'bisognare', 'bisogno', 'bocca', 'bosco', 'braccio', 'bravo', 'breve', 'bruciare', 'brutto', 'buio', 'buono', 'buttare', 'cadere', 'caffè', 'calcio', 'caldo', 'cambiare', 'camera', 'camminare', 'campagna', 'campo', 'cane', 'cantare', 'capace', 'capello', 'capire', 'capitare', 'capo', 'carattere', 'caratteristico', 'carne', 'caro', 'carta', 'casa', 'caso', 'cattivo', 'cattolico', 'causa', 'cavallo', 'celebrare', 'centrale', 'centro', 'cercare', 'certamente', 'certo', 'che', 'chi', 'chiamare', 'chiaro', 'chiave', 'chiedere', 'chiesa', 'chilometro', 'chissà', 'chiudere', 'ci', 'ciascuno', 'cielo', 'cioè', 'circa', 'cittadino', 'città', 'civile', 'civiltà', 'ciò', 'classe', 'collina', 'collo', 'colore', 'coloro', 'colpa', 'colpire', 'colpo', 'come', 'cominciare', 'commercio', 'commissione', 'comodo', 'compagnia', 'compagno', 'compiere', 'completamente', 'comporre', 'comprare', 'comprendere', 'comune', 'comunicazione', 'comunque', 'con', 'concedere', 'concetto', 'concludere', 'condizione', 'condurre', 'confessare', 'confronto', 'congresso', 'conoscenza', 'conoscere', 'conseguenza', 'consentire', 'conservare', 'considerare', 'consiglio', 'contadino', 'contare', 'contatto', 'contenere', 'contento', 'continuare', 'continuo', 'conto', 'contrario', 'contro', 'controllo', 'convincere', 'coprire', 'coraggio', 'corpo', 'corrente', 'correre', 'corsa', 'corso', 'cortile', 'cosa', 'coscienza', 'costa', 'costituire', 'costringere', 'costruire', 'costruzione', 'creare', 'credere', 'crescere', 'crisi', 'cristiano', 'croce', 'cucina', 'cui', 'cultura', 'cuore', 'cura', 'da', 'dare', 'davanti', 'davvero', 'decidere', 'decisione', 'dedicare', 'denaro', 'dente', 'dentro', 'descrivere', 'desiderare', 'desiderio', 'destino', 'destro', 'determinare', 'di', 'dichiarare', 'dietro', 'difendere', 'difesa', 'differenza', 'difficile', 'difficoltà', 'diffondere', 'dimenticare', 'dimostrare', 'dinanzi', 'dio', 'dipendere', 'dire', 'diretto', 'direttore', 'direzione', 'dirigere', 'diritto', 'discorso', 'discutere', 'disporre', 'disposizione', 'distanza', 'distinguere', 'distruggere', 'dito', 'divenire', 'diventare', 'diverso', 'divertire', 'dividere', 'dolce', 'dolore', 'domanda', 'domandare', 'domani', 'domenica', 'don', 'donna', 'dopo', 'dormire', 'dottore', 'dove', 'dovere', 'dubbio', 'dunque', 'durante', 'durare', 'duro', 'e', 'eccellenza', 'eccetera', 'ecco', 'economico', 'effetto', 'egli', 'eh', 'elemento', 'elettrico', 'elevare', 'energia', 'enorme', 'entrare', 'entro', 'epoca', 'eppure', 'erba', 'errore', 'esame', 'escludere', 'esempio', 'esercito', 'esistere', 'esperienza', 'esporre', 'espressione', 'esprimere', 'essa', 'essere', 'esso', 'estate', 'estendere', 'estero', 'estremo', 'età', 'europeo', 'evitare', 'fabbrica', 'faccia', 'facile', 'fame', 'famiglia', 'famoso', 'fantasia', 'fatica', 'fatto', 'favore', 'fede', 'felice', 'fenomeno', 'ferire', 'fermare', 'fermo', 'ferro', 'festa', 'fianco', 'fiducia', 'figlia', 'figlio', 'figura', 'figurare', 'film', 'filo', 'finalmente', 'finché', 'fine', 'finestra', 'finire', 'fino', 'fiore', 'fissare', 'fiume', 'foglia', 'folla', 'fondare', 'fondo', 'forma', 'formare', 'fornire', 'forse', 'forte', 'fortuna', 'forza', 'fra', 'francese', 'frase', 'fratello', 'freddo', 'fresco', 'fretta', 'fronte', 'frutto', 'fuggire', 'fumare', 'funzione', 'fuoco', 'fuori', 'futuro', 'gamba', 'gatto', 'generale', 'genere', 'gente', 'gesto', 'gettare', 'giallo', 'giardino', 'giocare', 'gioco', 'gioia', 'giornale', 'giornata', 'giorno', 'giovane', 'giovanotto', 'girare', 'giro', 'giudicare', 'giudizio', 'giugno', 'giungere', 'giustizia', 'giusto', 'già', 'giù', 'godere', 'governo', 'grado', 'grande', 'grave', 'grazia', 'grazie', 'greco', 'gridare', 'grigio', 'grosso', 'gruppo', 'guardare', 'guardia', 'guerra', 'guidare', 'gusto', 'idea', 'ieri', 'il', 'immaginare', 'immagine', 'imparare', 'impedire', 'imporre', 'importante', 'importanza', 'importare', 'impossibile', 'impressione', 'improvviso', 'in', 'incontrare', 'indicare', 'indietro', 'industria', 'industriale', 'infatti', 'infine', 'inglese', 'iniziare', 'inizio', 'innamorare', 'inoltre', 'insegnare', 'insieme', 'insistere', 'insomma', 'intanto', 'intendere', 'intenzione', 'interessante', 'interessare', 'interesse', 'internazionale', 'interno', 'intero', 'intorno', 'inutile', 'invece', 'inverno', 'invitare', 'io', 'isola', 'istante', 'istituto', 'italiano', 'labbro', 'lago', 'lanciare', 'largo', 'lasciare', 'latino', 'lato', 'latte', 'lavorare', 'lavoro', 'legare', 'legge', 'leggere', 'leggero', 'lei', 'lettera', 'letto', 'levare', 'li', 'liberare', 'libero', 'libertà', 'libro', 'limitare', 'limite', 'linea', 'lingua', 'lira', 'lo', 'lontano', 'loro', 'lotta', 'luce', 'lui', 'luna', 'lungo', 'luogo', 'là', 'lì', 'ma', 'macchina', 'madre', 'maestro', 'magari', 'maggio', 'maggiore', 'malattia', 'male', 'mamma', 'mancare', 'mandare', 'mangiare', 'maniera', 'mano', 'mantenere', 'mare', 'marito', 'massa', 'massimo', 'materia', 'matrimonio', 'mattina', 'mattino', 'medesimo', 'medico', 'medio', 'meglio', 'memoria', 'meno', 'mente', 'mentre', 'mercato', 'meritare', 'merito', 'mese', 'messa', 'mestiere', 'metro', 'mettere', 'metà', 'mezzo', 'mi', 'migliore', 'milione', 'militare', 'minimo', 'ministro', 'minore', 'minuto', 'mio', 'misura', 'moderno', 'modo', 'moglie', 'molto', 'momento', 'mondo', 'montagna', 'monte', 'morale', 'morire', 'morte', 'mostrare', 'motivo', 'movimento', 'muovere', 'muro', 'musica', 'nascere', 'nascondere', 'natura', 'naturale', 'naturalmente', 'nave', 'nazionale', 'nazione', 'ne', 'neanche', 'necessario', 'necessità', 'nemico', 'nemmeno', 'neppure', 'nero', 'nessuno', 'niente', 'no', 'nobile', 'noi', 'nome', 'non', 'nord', 'normale', 'nostro', 'notare', 'notevole', 'notizia', 'noto', 'notte', 'nudo', 'nulla', 'numero', 'numeroso', 'nuovo', 'né', 'o', 'occasione', 'occhio', 'occorrere', 'odore', 'offendere', 'offrire', 'oggetto', 'oggi', 'ogni', 'ognuno', 'oh', 'oltre', 'ombra', 'onore', 'opera', 'operaio', 'operazione', 'opinione', 'opporre', 'oppure', 'ora', 'oramai', 'ordinare', 'ordine', 'orecchio', 'organizzare', 'origine', 'oro', 'ospedale', 'osservare', 'ottenere', 'pace', 'padre', 'padrone', 'paese', 'pagare', 'pagina', 'palazzo', 'pane', 'papà', 'parecchio', 'parere', 'parete', 'parlare', 'parola', 'parte', 'partecipare', 'particolare', 'partire', 'partito', 'passare', 'passato', 'passione', 'passo', 'patria', 'paura', 'pazzo', 'peccato', 'peggio', 'pelle', 'pena', 'pensare', 'pensiero', 'per', 'perché', 'perciò', 'perdere', 'perfetto', 'perfino', 'pericolo', 'pericoloso', 'periodo', 'permettere', 'persona', 'personaggio', 'personale', 'però', 'pesare', 'peso', 'pezzo', 'piacere', 'piangere', 'piano', 'pianta', 'piantare', 'pianura', 'piazza', 'piccolo', 'piede', 'pieno', 'pietra', 'pietà', 'piuttosto', 'più', 'poco', 'poesia', 'poeta', 'poiché', 'politica', 'politico', 'polizia', 'pomeriggio', 'ponte', 'popolazione', 'popolo', 'porre', 'porta', 'portare', 'porto', 'posare', 'posizione', 'possedere', 'possibile', 'possibilità', 'posto', 'potenza', 'potere', 'povero', 'pranzo', 'prato', 'preciso', 'preferire', 'pregare', 'prendere', 'preoccupare', 'preparare', 'presentare', 'presente', 'presenza', 'presidente', 'presso', 'presto', 'prevedere', 'prezzo', 'prima', 'primo', 'principale', 'principe', 'principio', 'privato', 'probabilmente', 'problema', 'procedere', 'processo', 'prodotto', 'produrre', 'produzione', 'professore', 'profondo', 'programma', 'promettere', 'pronto', 'proporre', 'proposito', 'proposta', 'proprio', 'prossimo', 'prova', 'provare', 'provincia', 'provocare', 'provvedere', 'pubblicare', 'pubblico', 'punta', 'punto', 'pure', 'puro', 'qua', 'quadro', 'qualche', 'qualcosa', 'qualcuno', 'quale', 'qualità', 'qualsiasi', 'qualunque', 'quanto', 'quarto', 'quasi', 'quello', 'questione', 'questo', 'qui', 'quindi', 'raccogliere', 'raccontare', 'ragazza', 'ragazzo', 'raggiungere', 'ragione', 'rapido', 'rapporto', 'rappresentare', 'reale', 'realtà', 'recare', 'recente', 'regione', 'regno', 'relazione', 'religioso', 'rendere', 'repubblica', 'resistere', 'restare', 'resto', 'ricchezza', 'ricco', 'ricerca', 'ricevere', 'richiedere', 'riconoscere', 'ricordare', 'ricordo', 'ridere', 'ridurre', 'riempire', 'rientrare', 'riferire', 'rifiutare', 'riguardare', 'rimanere', 'rimettere', 'ringraziare', 'ripetere', 'riportare', 'riprendere', 'risolvere', 'rispetto', 'rispondere', 'risposta', 'risultare', 'risultato', 'ritenere', 'ritornare', 'ritorno', 'ritrovare', 'riunire', 'riuscire', 'riva', 'rivedere', 'rivelare', 'rivolgere', 'rivoluzione', 'roba', 'romano', 'rompere', 'rosso', 'russo', 'sacrificio', 'sacro', 'sala', 'salire', 'saltare', 'salutare', 'salvare', 'sangue', 'sapere', 'sbagliare', 'scala', 'scappare', 'scegliere', 'scena', 'scendere', 'scherzare', 'scienza', 'scomparire', 'scopo', 'scoppiare', 'scoprire', 'scorrere', 'scrittore', 'scrivere', 'scuola', 'scusare', 'se', 'secolo', 'secondo', 'sede', 'sedere', 'segnare', 'segno', 'segretario', 'segreto', 'seguire', 'seguito', 'sembrare', 'semplice', 'senso', 'sentimento', 'sentire', 'senza', 'sera', 'sereno', 'serie', 'serio', 'servire', 'servizio', 'settimana', 'sforzo', 'sguardo', 'si', 'sicurezza', 'sicuro', 'significare', 'signora', 'signore', 'signorina', 'silenzio', 'simile', 'sinistro', 'sino', 'sistema', 'situazione', 'smettere', 'sociale', 'società', 'soffrire', 'sognare', 'sogno', 'soldato', 'sole', 'solito', 'solo', 'soltanto', 'soluzione', 'sonno', 'sopra', 'soprattutto', 'sorella', 'sorgere', 'sorprendere', 'sorridere', 'sorriso', 'sostenere', 'sottile', 'sotto', 'spalla', 'spazio', 'speciale', 'specie', 'spegnere', 'speranza', 'sperare', 'spesa', 'spesso', 'spettacolo', 'spiegare', 'spingere', 'spirito', 'sposare', 'stabilire', 'staccare', 'stagione', 'stamattina', 'stampa', 'stanco', 'stanza', 'stare', 'stasera', 'stato', 'stazione', 'stella', 'stesso', 'storia', 'storico', 'strada', 'straniero', 'strano', 'straordinario', 'stringere', 'strumento', 'studiare', 'studio', 'stupido', 'su', 'subito', 'succedere', 'successo', 'sud', 'suo', 'suonare', 'superare', 'superiore', 'svegliare', 'sviluppo', 'svolgere', 'sì', 'tacere', 'tagliare', 'tale', 'tanto', 'tardi', 'tavola', 'tavolo', 'teatro', 'tecnico', 'tedesco', 'temere', 'tempo', 'tendere', 'tenere', 'tentare', 'termine', 'terreno', 'territorio', 'terzo', 'testa', 'tipo', 'tirare', 'titolo', 'toccare', 'togliere', 'tono', 'tornare', 'tra', 'tranquillo', 'trarre', 'trascinare', 'trasformare', 'trattare', 'tratto', 'treno', 'triste', 'troppo', 'trovare', 'tu', 'tuo', 'tuttavia', 'tutto', 'uccidere', 'udire', 'ufficiale', 'ufficio', 'uguale', 'ultimo', 'umano', 'un', 'unico', 'unire', 'università', 'uno', 'uomo', 'usare', 'uscire', 'uso', 'utile', 'valere', 'valle', 'valore', 'vario', 'vasto', 'vecchio', 'vedere', 'vendere', 'venire', 'vento', 'veramente', 'verde', 'verità', 'vero', 'verso', 'vestire', 'vestito', 'vi', 'via', 'viaggio', 'vicino', 'villa', 'vincere', 'vino', 'visita', 'viso', 'vista', 'vita', 'vivere', 'vivo', 'voce', 'voglia', 'voi', 'volare', 'volere', 'volgere', 'volontà', 'volta', 'voltare', 'volto', 'vostro', 'vuoto', 'zia', 'zio', 'zitto', 'zona')\n",
    "\n",
    "def bin_search(word):\n",
    "    low = 0\n",
    "    high = len(voc) - 1\n",
    "    attemps = 0\n",
    "    while low <= high:\n",
    "        mid = (low + high) // 2\n",
    "        attemps += 1\n",
    "        if word == voc[mid]:\n",
    "            attemps += 1\n",
    "            return mid, attemps\n",
    "        elif word in voc[mid:]:\n",
    "            low = mid + 1\n",
    "        else:\n",
    "            high = mid - 1\n",
    "    return (-1, attemps)\n",
    "print(bin_search(''))"
   ]
  },
  {
   "cell_type": "markdown",
   "metadata": {},
   "source": [
    "Write a function vowels(s) that takes as parameter a string and returns a list containing, only once, the vowels present in s.\n",
    "In the list the vowels are presented as lowercase, but they must be considered both the lower case ones and the upper case ones in the original string s.\n",
    "\n",
    "The order of the vowels in the returned list is the same one with which they appear (the first time) in the string. \n",
    "\n",
    "Use the while loop and the lower() method.\n",
    "\n",
    "Do not use the for loop - to check this, you are not allowed in this test to use any words (even in comments) containing the substring for.\n",
    "\n",
    "### Examples\n",
    "\n",
    "| Test | Result |\n",
    "|------|--------|\n",
    "| `print(vowels('Ciao Mondo!'))` | `['i', 'a', 'o']` |\n",
    "| `print(vowels('AAA'))` | `['a']` |\n",
    "| `print(vowels('Sn n strg snz vcl'))` | `[]` |\n",
    "| `print(vowels('#A##I#o#U#'))` | `['a', 'i', 'o', 'u']` |\n",
    "| `print(vowels(''))` | `[]` |\n"
   ]
  },
  {
   "cell_type": "code",
   "execution_count": 85,
   "metadata": {},
   "outputs": [
    {
     "name": "stdout",
     "output_type": "stream",
     "text": [
      "['e', 'o']\n",
      "['a']\n"
     ]
    },
    {
     "data": {
      "text/plain": [
       "[]"
      ]
     },
     "execution_count": 85,
     "metadata": {},
     "output_type": "execute_result"
    }
   ],
   "source": [
    "def vowels(s):\n",
    "    s = s.lower()\n",
    "    vowels = 'aeiou'\n",
    "    result = []\n",
    "    index = 0\n",
    "    while index < len(s):\n",
    "        char = s[index]\n",
    "        if char in vowels and char not in result:\n",
    "            result.append(char)\n",
    "        index += 1\n",
    "    return result\n",
    "\n",
    "print(vowels('Hello World'))  # ['e', 'o']\n",
    "print(vowels(\"AAA\"))\n",
    "vowels(\"\")"
   ]
  },
  {
   "cell_type": "code",
   "execution_count": null,
   "metadata": {},
   "outputs": [],
   "source": []
  }
 ],
 "metadata": {
  "kernelspec": {
   "display_name": ".venv",
   "language": "python",
   "name": "python3"
  },
  "language_info": {
   "codemirror_mode": {
    "name": "ipython",
    "version": 3
   },
   "file_extension": ".py",
   "mimetype": "text/x-python",
   "name": "python",
   "nbconvert_exporter": "python",
   "pygments_lexer": "ipython3",
   "version": "3.11.4"
  }
 },
 "nbformat": 4,
 "nbformat_minor": 2
}
