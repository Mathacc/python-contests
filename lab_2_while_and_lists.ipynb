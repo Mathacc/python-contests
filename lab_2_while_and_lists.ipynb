{
 "cells": [
  {
   "cell_type": "markdown",
   "metadata": {},
   "source": [
    "# Lab 2 - while and lists"
   ]
  },
  {
   "cell_type": "markdown",
   "metadata": {},
   "source": [
    "## Collatz Conjecture\n",
    "\n",
    "The Collatz conjecture is based on the following algorithm:\n",
    "\n",
    "1. Take a positive integer number \\( m \\).\n",
    "2. If \\( m = 1 \\), the algorithm terminates.\n",
    "3. If \\( m \\) is even, divide it by 2 (integer division); if \\( m \\) is odd, multiply it by 3 and add 1.\n",
    "4. Start again with the new \\( m \\) updated as above.\n",
    "\n",
    "The conjecture, yet unproven, states this algorithm always terminates.\n",
    "\n",
    "### Task\n",
    "\n",
    "Write a function `collatz(m)` that returns a list containing all the numbers of the Collatz sequence from \\( m \\) to 1.\n",
    "\n",
    "### Examples\n",
    "\n",
    "| Test | Result |\n",
    "|------|--------|\n",
    "| `print(collatz(19))` | `[19, 58, 29, 88, 44, 22, 11, 34, 17, 52, 26, 13, 40, 20, 10, 5, 16, 8, 4, 2, 1]` |\n",
    "| `print(collatz(0))` | `[]` |\n",
    "| `print(collatz(1))` | `[1]` |\n",
    "| `print(collatz(2))` | `[2, 1]` |\n",
    "| `print(collatz(3))` | `[3, 10, 5, 16, 8, 4, 2, 1]` |\n",
    "| `print(collatz(4))` | `[4, 2, 1]` |\n",
    "| `print(collatz(73))` | `[73, 220, 110, 55, 166, 83, 250, 125, 376, 188, 94, 47, 142, 71, 214, 107, 322, 161, 484, 242, 121, 364, 182, 91, 274, 137, 412, 206, 103, 310, 155, 466, 233, 700, 350, 175, 526, 263, 790, 395, 1186, 593, 1780, 890, 445, 1336, 668, 334, 167, 502, 251, 754, 377, 1132, 566, 283, 850, 425, 1276, 638, 319, 958, 479, 1438, 719, 2158, 1079, 3238, 1619, 4858, 2429, 7288, 3644, 1822, 911, 2734, 1367, 4102, 2051, 6154, 3077, 9232, 4616, 2308, 1154, 577, 1732, 866, 433, 1300, 650, 325, 976, 488, 244, 122, 61, 184, 92, 46, 23, 70, 35, 106, 53, 160, 80, 40, 20, 10, 5, 16, 8, 4, 2, 1]` |"
   ]
  },
  {
   "cell_type": "code",
   "execution_count": 2,
   "metadata": {},
   "outputs": [],
   "source": [
    "def collatz(m):\n",
    "    if m == 0:\n",
    "        return []\n",
    "    result = [m]\n",
    "    while m != 1:\n",
    "        if m % 2 == 0:\n",
    "            m = m // 2\n",
    "        else:\n",
    "            m = m * 3 + 1\n",
    "        result.append(m)\n",
    "    return result"
   ]
  },
  {
   "cell_type": "code",
   "execution_count": 3,
   "metadata": {},
   "outputs": [
    {
     "name": "stdout",
     "output_type": "stream",
     "text": [
      "[19, 58, 29, 88, 44, 22, 11, 34, 17, 52, 26, 13, 40, 20, 10, 5, 16, 8, 4, 2, 1]\n",
      "[]\n",
      "[1]\n",
      "[2, 1]\n",
      "[3, 10, 5, 16, 8, 4, 2, 1]\n",
      "[4, 2, 1]\n",
      "[73, 220, 110, 55, 166, 83, 250, 125, 376, 188, 94, 47, 142, 71, 214, 107, 322, 161, 484, 242, 121, 364, 182, 91, 274, 137, 412, 206, 103, 310, 155, 466, 233, 700, 350, 175, 526, 263, 790, 395, 1186, 593, 1780, 890, 445, 1336, 668, 334, 167, 502, 251, 754, 377, 1132, 566, 283, 850, 425, 1276, 638, 319, 958, 479, 1438, 719, 2158, 1079, 3238, 1619, 4858, 2429, 7288, 3644, 1822, 911, 2734, 1367, 4102, 2051, 6154, 3077, 9232, 4616, 2308, 1154, 577, 1732, 866, 433, 1300, 650, 325, 976, 488, 244, 122, 61, 184, 92, 46, 23, 70, 35, 106, 53, 160, 80, 40, 20, 10, 5, 16, 8, 4, 2, 1]\n"
     ]
    }
   ],
   "source": [
    "# Test cases\n",
    "print(collatz(19))  # [19, 58, 29, 88, 44, 22, 11, 34, 17, 52, 26, 13, 40, 20, 10, 5, 16, 8, 4, 2, 1]\n",
    "print(collatz(0))   # []\n",
    "print(collatz(1))   # [1]\n",
    "print(collatz(2))   # [2, 1]\n",
    "print(collatz(3))   # [3, 10, 5, 16, 8, 4, 2, 1]\n",
    "print(collatz(4))   # [4, 2, 1]\n",
    "print(collatz(73))  # [73, 220, 110, 55, 166, 83, 250, 125, 376, 188, 94, 47, 142, 71, 214, 107, 322, 161, 484, 242, 121, 364, 182, 91, 274, 137, 412, 206, 103, 310, 155, 466, 233, 700, 350, 175, 526, 263, 790, 395, 1186, 593, 1780, 890, 445, 1336, 668, 334, 167, 502, 251, 754, 377, 1132, 566, 283, 850, 425, 1276, 638, 319, 958, 479, 1438, 719, 2158, 1079, 3238, 1619, 4858, 2429, 7288, 3644, 1822, 911, 2734, 1367, 4102, 2051, 6154, 3077, 9232, 4616, 2308, 1154, 577, 1732, 866, 433, 1300, 650, 325, 976, 488, 244, 122, 61, 184, 92, 46, 23, 70, 35, 106, 53, 160, 80, 40, 20, 10, 5, 16, 8, 4, 2, 1]"
   ]
  },
  {
   "cell_type": "markdown",
   "metadata": {},
   "source": [
    "## Task\n",
    "\n",
    "Write a function `increasing(L)` that checks if a list `L` is sorted in ascending order (`<=`).\n",
    "\n",
    "Suppose that `L` is a list and contains objects that can be ordered, without checking.\n",
    "\n",
    "Then, write a function `join_ordered(L1, L2)` which takes as parameters two lists ordered in ascending order (check it using the `increasing` function), creates and returns a third one, also ordered, from the union of the two.\n",
    "\n",
    "If at least one of the two lists is not in ascending order, return `None`.\n",
    "\n",
    "Do not use the `sort` function (or analogous, e.g. `sorted`) - for us to check this, you are not allowed in this test to use any words (even in comments) containing the substring `sort`.\n",
    "\n",
    "### Examples\n",
    "\n",
    "| Test | Result |\n",
    "|------|--------|\n",
    "| `print(join_ordered([3,1,2], [1,2,3]))` | `None` |\n",
    "| `print(join_ordered([3,1,2], [1,2,3]))` | `None` |\n",
    "| `print(join_ordered([], []))` | `[]` |\n",
    "| `print(join_ordered([1,3,5], []))` | `[1, 3, 5]` |\n",
    "| `print(join_ordered([], [1,3,6]))` | `[1, 3, 6]` |\n",
    "| `print(join_ordered([1,3,5], [0,2,4,6,8,10]))` | `[0, 1, 2, 3, 4, 5, 6, 8, 10]` |\n",
    "| `print(join_ordered([100], list(range(1,99,3))))` | `[1, 4, 7, 10, 13, 16, 19, 22, 25, 28, 31, 34, 37, 40, 43, 46, 49, 52, 55, 58, 61, 64, 67, 70, 73, 76, 79, 82, 85, 88, 91, 94, 97, 100]` |\n",
    "| `print(join_ordered([1,3,5], [100,300,500]))` | `[1, 3, 5, 100, 300, 500]` |"
   ]
  },
  {
   "cell_type": "code",
   "execution_count": 8,
   "metadata": {},
   "outputs": [],
   "source": [
    "def increasing(L):\n",
    "    return all(L[i] < L[i + 1] for i in range(len(L) - 1))\n",
    "\n",
    "assert increasing([1, 2, 3, 4, 5]) == True"
   ]
  },
  {
   "cell_type": "code",
   "execution_count": 11,
   "metadata": {},
   "outputs": [],
   "source": [
    "def bubble(L):\n",
    "    while not increasing(L):\n",
    "        for i in range(len(L) - 1):\n",
    "            if L[i] > L[i + 1]:\n",
    "                L[i], L[i + 1] = L[i + 1], L[i]\n",
    "    return L\n",
    "def join_ordered(L1, L2):\n",
    "    if increasing(L1) and increasing(L2):\n",
    "        return bubble(L1 + L2)\n",
    "    return None\n",
    "assert join_ordered([1, 2, 3], [4, 5]) == [1, 2, 3, 4, 5]\n",
    "assert join_ordered([1, 2, 3], [5, 4]) == None\n",
    "assert join_ordered([], []) == []\n",
    "assert join_ordered([1,3,5], [0,2,4,6,8,10]) == [0, 1, 2, 3, 4, 5, 6, 8, 10]"
   ]
  },
  {
   "cell_type": "code",
   "execution_count": null,
   "metadata": {},
   "outputs": [],
   "source": []
  },
  {
   "cell_type": "markdown",
   "metadata": {},
   "source": [
    "## Task\n",
    "\n",
    "Write a function `contiguous(L)` that takes a list `L` as a parameter and creates and returns a new list with values taken from `L` - in which a series of equal contiguous values is replaced by one single entry of the value followed by the number of occurrences of the equal contiguous values in `L`.\n",
    "\n",
    "### Examples\n",
    "\n",
    "| Test | Result |\n",
    "|------|--------|\n",
    "| `print(contiguous(['a','b','b','z','o','o','b','b','b','b','k']))` | `['a', 'b', 2, 'z', 'o', 2, 'b', 4, 'k']` |\n",
    "| `print(contiguous([]))` | `[]` |\n",
    "| `print(contiguous([1,2,3,4,5]))` | `[1, 2, 3, 4, 5]` |\n",
    "| `print(contiguous(['a','b','c','d']))` | `['a', 'b', 'c', 'd']` |\n",
    "| `print(contiguous([0, 0, 0, 0, 0, 0, 0, 0, 0, 0, 0, 0, 0, 0, 0, 0, 0, 0, 0, 0]))` | `[0, 20]` |\n",
    "| `print(contiguous([7,7, 8, 8, 5, 5]))` | `[7, 2, 8, 2, 5, 2]` |\n"
   ]
  },
  {
   "cell_type": "code",
   "execution_count": 27,
   "metadata": {},
   "outputs": [],
   "source": [
    "def contiguous(L):\n",
    "    if not L:\n",
    "        return []\n",
    "    result = []\n",
    "    count = 1\n",
    "    current = L[0]\n",
    "    for i in range(1,len(L)):\n",
    "        if L[i] == current:\n",
    "            count += 1\n",
    "        else:\n",
    "            result.append(current)\n",
    "            if count > 1:\n",
    "                result.append(count)\n",
    "            current = L[i]\n",
    "            count = 1\n",
    "    result.append(current)\n",
    "    if count > 1:\n",
    "        result.append(count)\n",
    "    return result\n",
    "assert contiguous(['a','b','b','z','o','o','b','b','b','b','k']) == ['a', 'b', 2, 'z', 'o', 2, 'b', 4, 'k']\n",
    "assert contiguous([]) == []\n",
    "assert contiguous(['a','a','a','a','a']) == ['a', 5]"
   ]
  },
  {
   "cell_type": "code",
   "execution_count": 26,
   "metadata": {},
   "outputs": [
    {
     "name": "stdout",
     "output_type": "stream",
     "text": [
      "['a']\n"
     ]
    }
   ],
   "source": [
    "print(contiguous(['a','a','a','a','a']))"
   ]
  },
  {
   "cell_type": "markdown",
   "metadata": {},
   "source": [
    "## Task\n",
    "\n",
    "Write a function `contiguous_inplace(L)` that (analogously to the previous exercise) takes a list `L` as a parameter and modifies the list `L` such that a series of equal contiguous values is replaced by one single entry of the value followed by the number of occurrences of the equal contiguous values in `L`.\n",
    "\n",
    "The function does not return anything. It modifies `L` without modifying the `id` and without using auxiliary structures like other lists or tuples.\n",
    "\n",
    "To check that the modified list is actually the same as the one passed as a parameter, the test will check that the `id` (of the two lists) match, and that list `L` has been modified correctly. However, you will not see any results in the automatic tests. A possible test to do in Thonny is the following:\n",
    "\n",
    "```python\n",
    "A = ['a','b','b','z','o','o','b','b','b','b','k']\n",
    "AR = ['a', 'b', 2, 'z', 'o', 2, 'b', 4, 'k']\n",
    "id_before = id(A)\n",
    "contiguous_inplace(A)\n",
    "print((id_before == id(A)) and (A == AR))\n",
    "```"
   ]
  },
  {
   "cell_type": "code",
   "execution_count": 28,
   "metadata": {},
   "outputs": [
    {
     "name": "stdout",
     "output_type": "stream",
     "text": [
      "['a', 'b', 2, 'z', 'o', 2, 'b', 4, 'k']\n"
     ]
    }
   ],
   "source": [
    "def contiguous_inplace(L):\n",
    "    if not L:\n",
    "        return\n",
    "    \n",
    "    write_index = 0\n",
    "    count = 1\n",
    "    current = L[0]\n",
    "    \n",
    "    for i in range(1, len(L)):\n",
    "        if L[i] == current:\n",
    "            count += 1\n",
    "        else:\n",
    "            L[write_index] = current\n",
    "            write_index += 1\n",
    "            if count > 1:\n",
    "                L[write_index] = count\n",
    "                write_index += 1\n",
    "            current = L[i]\n",
    "            count = 1\n",
    "    \n",
    "    L[write_index] = current\n",
    "    write_index += 1\n",
    "    if count > 1:\n",
    "        L[write_index] = count\n",
    "        write_index += 1\n",
    "    \n",
    "    # Remove the remaining elements\n",
    "    del L[write_index:]\n",
    "\n",
    "# Test case\n",
    "A = ['a','b','b','z','o','o','b','b','b','b','k']\n",
    "contiguous_inplace(A)\n",
    "print(A)  # ['a', 'b', 2, 'z', 'o', 2, 'b', 4, 'k']"
   ]
  },
  {
   "cell_type": "markdown",
   "metadata": {},
   "source": [
    "## Task\n",
    "\n",
    "Write a Python program (not a function!) that asks the user for non-negative integers that represent measurements of the daily amount of rain.\n",
    "\n",
    "When the user enters the value `99999`, the program prints the average of the numbers received before that value.\n",
    "If the user enters negative numbers, they are ignored.\n",
    "\n",
    "The system will automatically input some values (shown, one at a time) to test your program.\n",
    "\n",
    "### Requirements\n",
    "\n",
    "- The input descriptive string should be exactly `R:` (with no blank spaces: hence you should use `input(\"R:\")`).\n",
    "- The output should be the print of a float, mandatory rounded using the `round` function to two decimal digits, without any other characters.\n",
    "- If there is no valid input, the program does not print anything.\n",
    "- In this exercise, you are allowed, and required, to use `print`.\n",
    "\n",
    "### Examples\n",
    "\n",
    "| Test | Input | Result |\n",
    "|------|-------|--------|\n",
    "| pass | 99999 | `R:` |\n",
    "| pass | 25<br>75<br>-3<br>50<br>50<br>99999 | `R:R:R:R:R:R:50.0` |\n",
    "| pass | -3<br>-3<br>-10<br>99999 | `R:R:R:R:` |\n",
    "| pass | 100<br>200<br>0<br>45<br>-3<br>59<br>700<br>80<br>45<br>-100<br>-100<br>99999 | `R:R:R:R:R:R:R:R:R:R:R:R:153.62` |"
   ]
  },
  {
   "cell_type": "code",
   "execution_count": 44,
   "metadata": {},
   "outputs": [
    {
     "name": "stdout",
     "output_type": "stream",
     "text": [
      "40.0\n"
     ]
    }
   ],
   "source": [
    "current_sum = 0\n",
    "index = 0\n",
    "\n",
    "while True:\n",
    "    inputed_value = int(input(\"R:\"))\n",
    "    if inputed_value == 99999:\n",
    "        if index > 0:\n",
    "            print(round(current_sum / index, 2))\n",
    "        break\n",
    "    elif inputed_value >= 0:\n",
    "        current_sum += inputed_value\n",
    "        index += 1"
   ]
  },
  {
   "cell_type": "code",
   "execution_count": 39,
   "metadata": {},
   "outputs": [
    {
     "name": "stdout",
     "output_type": "stream",
     "text": [
      "<class 'int'>\n"
     ]
    }
   ],
   "source": [
    "inputed_value = input(\"R:\")\n",
    "inputed_value = int(inputed_value)\n",
    "print(type(inputed_value))"
   ]
  },
  {
   "cell_type": "markdown",
   "metadata": {},
   "source": [
    "Write a repeat_numbers(L) function which, given a list of natural numbers (assume they are greater or equal to 0, without checking), returns a new list in which the same elements of the list appear as parameter and in the same order, but each element of the list is repeated the number of times corresponding to the element (e.g. 0 will be repeated zero times, 1 once, 2 twice and so on).\n",
    "For example:\n",
    "\n",
    "| Test | Result |\n",
    "|------|--------|\n",
    "| `print(repeat_numbers([2,1,0,3,1,2]))` | `[2, 2, 1, 3, 3, 3, 1, 2, 2]` |\n",
    "| `print(repeat_numbers([3,0,2,4]))` | `[3, 3, 3, 2, 2, 4, 4, 4, 4]` |\n",
    "| `print(repeat_numbers([4,3,1]))` | `[4, 4, 4, 4, 3, 3, 3, 1]` |\n",
    "| `print(repeat_numbers([]))` | `[]` |\n",
    "| `print(repeat_numbers([2,8,0]))` | `[2, 2, 8, 8, 8, 8, 8, 8, 8, 8]` |\n"
   ]
  },
  {
   "cell_type": "code",
   "execution_count": 46,
   "metadata": {},
   "outputs": [],
   "source": [
    "def repeat_numbers(L):\n",
    "    result = []\n",
    "    for i in range(len(L)):\n",
    "        for j in range(L[i]):\n",
    "            result.append(L[i])\n",
    "    return result\n",
    "assert repeat_numbers([1, 2, 3]) == [1, 2, 2, 3, 3, 3]\n",
    "assert repeat_numbers([0, 0, 0]) == []"
   ]
  },
  {
   "cell_type": "markdown",
   "metadata": {},
   "source": [
    "Write a function ```repeat_inplace(L)``` similar to the previous exercise, but change the list passed as a parameter, without returning it. Do not create new lists (or other structures).\n",
    "\n",
    "\n",
    "P.S. To check that the modified list is actually the same as passed as a parameter, the test will check that the id (of the two lists) match, and that list L has been modified correctly. However, you will not see any results in automatic tests. A possible test to be performed in Thonny is the following\n",
    "```python\n",
    "A = [3,0,2,4]\n",
    "AR = [3,3,3,2,2,4,4,4]\n",
    "id_prev = id(A)\n",
    "repeat_inplace(A)\n",
    "print((id_prev == id(A)) and (A == AR))"
   ]
  },
  {
   "cell_type": "code",
   "execution_count": 57,
   "metadata": {},
   "outputs": [
    {
     "name": "stdout",
     "output_type": "stream",
     "text": [
      "[3, 3, 3, 3, 3, 3, 3, 3, 3, 3, 3, 3]\n"
     ]
    }
   ],
   "source": [
    "def repeat_inplace(L):\n",
    "    original_length = len(L)\n",
    "    write_index = 0\n",
    "    for i in range(original_length):\n",
    "        for _ in range(L[write_index+i]):\n",
    "            L.insert(write_index, L[write_index+i])\n",
    "            write_index += 1\n",
    "    del L[write_index:]\n",
    "\n",
    "# Test case\n",
    "A = [3, 0, 2, 4]\n",
    "repeat_inplace(A)\n",
    "print(A)  # [3, 3, 3, 2, 2, 4, 4, 4]\n"
   ]
  },
  {
   "cell_type": "markdown",
   "metadata": {},
   "source": [
    "The tuple voc, already defined in the global environment, contains in alphabetical order the 1160 most common words in the Italian language, in the form of strings.\n",
    "## Task\n",
    "\n",
    "Write a `bin_search(word)` function that takes as parameter a word string (suppose it is a string without checking) and returns a tuple of two elements that contains, in order:\n",
    "\n",
    "1. The position of the string `word` in the tuple `voc` (i.e., the first element 'a' has position 0, the last 'zone' has position 1159), or -1 if `word` is not present in `voc`.\n",
    "2. The number of attempts the algorithm has made to find the location of `word`.\n",
    "\n",
    "Using the binary search algorithm.\n",
    "\n",
    "**N.B.!** If you copy this code to Thonny, the interface may be slowed down (especially on MacOS and Linux) due to the long tuple. You can test the program directly here on lab-info-mat. If you want to try it on Thonny, you can use (only on Thonny) a shorter tuple, then check that your solution continues to work once pasted below.\n",
    "\n",
    "### Examples\n",
    "\n",
    "| Test | Result |\n",
    "|------|--------|\n",
    "| `print(bin_search('a'))` | `(0, 11)` |\n",
    "| `print(bin_search('casa'))` | `(151, 11)` |\n",
    "| `print(bin_search('zona'))` | `(1159, 10)` |\n",
    "| `print(bin_search('Michael'))` | `(-1, 11)` |\n",
    "| `print(bin_search('bello'))` | `(112, 9)` |\n",
    "| `print(bin_search('voluttuoso'))` | `(-1, 10)` |\n",
    "| `print(bin_search('vero'))` | `(1127, 9)` |\n",
    "| `print(bin_search('medico'))` | `(584, 10)` |\n",
    "| `print(bin_search(''))` | `(-1, 11)` |\n"
   ]
  },
  {
   "cell_type": "code",
   "execution_count": 16,
   "metadata": {},
   "outputs": [
    {
     "name": "stdout",
     "output_type": "stream",
     "text": [
      "(-1, 10)\n"
     ]
    }
   ],
   "source": [
    "voc = ('a', 'abbandonare', 'abbastanza', 'abitare', 'abito', 'accadere', 'accanto', 'accendere', 'accettare', 'accogliere', 'accompagnare', 'accordo', 'accorgersi', 'acqua', 'addirittura', 'addosso', 'adesso', 'affare', 'affatto', 'affermare', 'affrontare', 'aggiungere', 'ah', 'aiutare', 'aiuto', 'albergo', 'albero', 'alcuno', 'allontanare', 'allora', 'almeno', 'alto', 'altro', 'alzare', 'amare', 'ambiente', 'americano', 'amico', 'ammazzare', 'ammettere', 'amore', 'ampio', 'anche', 'ancora', 'andare', 'angolo', 'anima', 'animale', 'animo', 'anno', 'annunciare', 'antico', 'anzi', 'apparire', 'appartenere', 'appena', 'appoggiare', 'appunto', 'aprire', 'argomento', 'aria', 'arma', 'armare', 'arrestare', 'arrivare', 'arte', 'articolo', 'ascoltare', 'aspettare', 'aspetto', 'assai', 'assicurare', 'assistere', 'assoluto', 'assumere', 'attaccare', 'atteggiamento', 'attendere', 'attento', 'attenzione', 'attesa', 'attimo', 'attività', 'atto', 'attore', 'attorno', 'attraversare', 'attuale', 'aumentare', 'automobile', 'autore', 'autorità', 'avanti', 'avanzare', 'avere', 'avvenire', 'avvertire', 'avvicinare', 'avvocato', 'azione', 'azzurro', 'baciare', 'badare', 'bagno', 'bambina', 'bambino', 'base', 'basso', 'bastare', 'battaglia', 'battere', 'bellezza', 'bello', 'bene', 'bere', 'bestia', 'bianco', 'biondo', 'bisognare', 'bisogno', 'bocca', 'bosco', 'braccio', 'bravo', 'breve', 'bruciare', 'brutto', 'buio', 'buono', 'buttare', 'cadere', 'caffè', 'calcio', 'caldo', 'cambiare', 'camera', 'camminare', 'campagna', 'campo', 'cane', 'cantare', 'capace', 'capello', 'capire', 'capitare', 'capo', 'carattere', 'caratteristico', 'carne', 'caro', 'carta', 'casa', 'caso', 'cattivo', 'cattolico', 'causa', 'cavallo', 'celebrare', 'centrale', 'centro', 'cercare', 'certamente', 'certo', 'che', 'chi', 'chiamare', 'chiaro', 'chiave', 'chiedere', 'chiesa', 'chilometro', 'chissà', 'chiudere', 'ci', 'ciascuno', 'cielo', 'cioè', 'circa', 'cittadino', 'città', 'civile', 'civiltà', 'ciò', 'classe', 'collina', 'collo', 'colore', 'coloro', 'colpa', 'colpire', 'colpo', 'come', 'cominciare', 'commercio', 'commissione', 'comodo', 'compagnia', 'compagno', 'compiere', 'completamente', 'comporre', 'comprare', 'comprendere', 'comune', 'comunicazione', 'comunque', 'con', 'concedere', 'concetto', 'concludere', 'condizione', 'condurre', 'confessare', 'confronto', 'congresso', 'conoscenza', 'conoscere', 'conseguenza', 'consentire', 'conservare', 'considerare', 'consiglio', 'contadino', 'contare', 'contatto', 'contenere', 'contento', 'continuare', 'continuo', 'conto', 'contrario', 'contro', 'controllo', 'convincere', 'coprire', 'coraggio', 'corpo', 'corrente', 'correre', 'corsa', 'corso', 'cortile', 'cosa', 'coscienza', 'costa', 'costituire', 'costringere', 'costruire', 'costruzione', 'creare', 'credere', 'crescere', 'crisi', 'cristiano', 'croce', 'cucina', 'cui', 'cultura', 'cuore', 'cura', 'da', 'dare', 'davanti', 'davvero', 'decidere', 'decisione', 'dedicare', 'denaro', 'dente', 'dentro', 'descrivere', 'desiderare', 'desiderio', 'destino', 'destro', 'determinare', 'di', 'dichiarare', 'dietro', 'difendere', 'difesa', 'differenza', 'difficile', 'difficoltà', 'diffondere', 'dimenticare', 'dimostrare', 'dinanzi', 'dio', 'dipendere', 'dire', 'diretto', 'direttore', 'direzione', 'dirigere', 'diritto', 'discorso', 'discutere', 'disporre', 'disposizione', 'distanza', 'distinguere', 'distruggere', 'dito', 'divenire', 'diventare', 'diverso', 'divertire', 'dividere', 'dolce', 'dolore', 'domanda', 'domandare', 'domani', 'domenica', 'don', 'donna', 'dopo', 'dormire', 'dottore', 'dove', 'dovere', 'dubbio', 'dunque', 'durante', 'durare', 'duro', 'e', 'eccellenza', 'eccetera', 'ecco', 'economico', 'effetto', 'egli', 'eh', 'elemento', 'elettrico', 'elevare', 'energia', 'enorme', 'entrare', 'entro', 'epoca', 'eppure', 'erba', 'errore', 'esame', 'escludere', 'esempio', 'esercito', 'esistere', 'esperienza', 'esporre', 'espressione', 'esprimere', 'essa', 'essere', 'esso', 'estate', 'estendere', 'estero', 'estremo', 'età', 'europeo', 'evitare', 'fabbrica', 'faccia', 'facile', 'fame', 'famiglia', 'famoso', 'fantasia', 'fatica', 'fatto', 'favore', 'fede', 'felice', 'fenomeno', 'ferire', 'fermare', 'fermo', 'ferro', 'festa', 'fianco', 'fiducia', 'figlia', 'figlio', 'figura', 'figurare', 'film', 'filo', 'finalmente', 'finché', 'fine', 'finestra', 'finire', 'fino', 'fiore', 'fissare', 'fiume', 'foglia', 'folla', 'fondare', 'fondo', 'forma', 'formare', 'fornire', 'forse', 'forte', 'fortuna', 'forza', 'fra', 'francese', 'frase', 'fratello', 'freddo', 'fresco', 'fretta', 'fronte', 'frutto', 'fuggire', 'fumare', 'funzione', 'fuoco', 'fuori', 'futuro', 'gamba', 'gatto', 'generale', 'genere', 'gente', 'gesto', 'gettare', 'giallo', 'giardino', 'giocare', 'gioco', 'gioia', 'giornale', 'giornata', 'giorno', 'giovane', 'giovanotto', 'girare', 'giro', 'giudicare', 'giudizio', 'giugno', 'giungere', 'giustizia', 'giusto', 'già', 'giù', 'godere', 'governo', 'grado', 'grande', 'grave', 'grazia', 'grazie', 'greco', 'gridare', 'grigio', 'grosso', 'gruppo', 'guardare', 'guardia', 'guerra', 'guidare', 'gusto', 'idea', 'ieri', 'il', 'immaginare', 'immagine', 'imparare', 'impedire', 'imporre', 'importante', 'importanza', 'importare', 'impossibile', 'impressione', 'improvviso', 'in', 'incontrare', 'indicare', 'indietro', 'industria', 'industriale', 'infatti', 'infine', 'inglese', 'iniziare', 'inizio', 'innamorare', 'inoltre', 'insegnare', 'insieme', 'insistere', 'insomma', 'intanto', 'intendere', 'intenzione', 'interessante', 'interessare', 'interesse', 'internazionale', 'interno', 'intero', 'intorno', 'inutile', 'invece', 'inverno', 'invitare', 'io', 'isola', 'istante', 'istituto', 'italiano', 'labbro', 'lago', 'lanciare', 'largo', 'lasciare', 'latino', 'lato', 'latte', 'lavorare', 'lavoro', 'legare', 'legge', 'leggere', 'leggero', 'lei', 'lettera', 'letto', 'levare', 'li', 'liberare', 'libero', 'libertà', 'libro', 'limitare', 'limite', 'linea', 'lingua', 'lira', 'lo', 'lontano', 'loro', 'lotta', 'luce', 'lui', 'luna', 'lungo', 'luogo', 'là', 'lì', 'ma', 'macchina', 'madre', 'maestro', 'magari', 'maggio', 'maggiore', 'malattia', 'male', 'mamma', 'mancare', 'mandare', 'mangiare', 'maniera', 'mano', 'mantenere', 'mare', 'marito', 'massa', 'massimo', 'materia', 'matrimonio', 'mattina', 'mattino', 'medesimo', 'medico', 'medio', 'meglio', 'memoria', 'meno', 'mente', 'mentre', 'mercato', 'meritare', 'merito', 'mese', 'messa', 'mestiere', 'metro', 'mettere', 'metà', 'mezzo', 'mi', 'migliore', 'milione', 'militare', 'minimo', 'ministro', 'minore', 'minuto', 'mio', 'misura', 'moderno', 'modo', 'moglie', 'molto', 'momento', 'mondo', 'montagna', 'monte', 'morale', 'morire', 'morte', 'mostrare', 'motivo', 'movimento', 'muovere', 'muro', 'musica', 'nascere', 'nascondere', 'natura', 'naturale', 'naturalmente', 'nave', 'nazionale', 'nazione', 'ne', 'neanche', 'necessario', 'necessità', 'nemico', 'nemmeno', 'neppure', 'nero', 'nessuno', 'niente', 'no', 'nobile', 'noi', 'nome', 'non', 'nord', 'normale', 'nostro', 'notare', 'notevole', 'notizia', 'noto', 'notte', 'nudo', 'nulla', 'numero', 'numeroso', 'nuovo', 'né', 'o', 'occasione', 'occhio', 'occorrere', 'odore', 'offendere', 'offrire', 'oggetto', 'oggi', 'ogni', 'ognuno', 'oh', 'oltre', 'ombra', 'onore', 'opera', 'operaio', 'operazione', 'opinione', 'opporre', 'oppure', 'ora', 'oramai', 'ordinare', 'ordine', 'orecchio', 'organizzare', 'origine', 'oro', 'ospedale', 'osservare', 'ottenere', 'pace', 'padre', 'padrone', 'paese', 'pagare', 'pagina', 'palazzo', 'pane', 'papà', 'parecchio', 'parere', 'parete', 'parlare', 'parola', 'parte', 'partecipare', 'particolare', 'partire', 'partito', 'passare', 'passato', 'passione', 'passo', 'patria', 'paura', 'pazzo', 'peccato', 'peggio', 'pelle', 'pena', 'pensare', 'pensiero', 'per', 'perché', 'perciò', 'perdere', 'perfetto', 'perfino', 'pericolo', 'pericoloso', 'periodo', 'permettere', 'persona', 'personaggio', 'personale', 'però', 'pesare', 'peso', 'pezzo', 'piacere', 'piangere', 'piano', 'pianta', 'piantare', 'pianura', 'piazza', 'piccolo', 'piede', 'pieno', 'pietra', 'pietà', 'piuttosto', 'più', 'poco', 'poesia', 'poeta', 'poiché', 'politica', 'politico', 'polizia', 'pomeriggio', 'ponte', 'popolazione', 'popolo', 'porre', 'porta', 'portare', 'porto', 'posare', 'posizione', 'possedere', 'possibile', 'possibilità', 'posto', 'potenza', 'potere', 'povero', 'pranzo', 'prato', 'preciso', 'preferire', 'pregare', 'prendere', 'preoccupare', 'preparare', 'presentare', 'presente', 'presenza', 'presidente', 'presso', 'presto', 'prevedere', 'prezzo', 'prima', 'primo', 'principale', 'principe', 'principio', 'privato', 'probabilmente', 'problema', 'procedere', 'processo', 'prodotto', 'produrre', 'produzione', 'professore', 'profondo', 'programma', 'promettere', 'pronto', 'proporre', 'proposito', 'proposta', 'proprio', 'prossimo', 'prova', 'provare', 'provincia', 'provocare', 'provvedere', 'pubblicare', 'pubblico', 'punta', 'punto', 'pure', 'puro', 'qua', 'quadro', 'qualche', 'qualcosa', 'qualcuno', 'quale', 'qualità', 'qualsiasi', 'qualunque', 'quanto', 'quarto', 'quasi', 'quello', 'questione', 'questo', 'qui', 'quindi', 'raccogliere', 'raccontare', 'ragazza', 'ragazzo', 'raggiungere', 'ragione', 'rapido', 'rapporto', 'rappresentare', 'reale', 'realtà', 'recare', 'recente', 'regione', 'regno', 'relazione', 'religioso', 'rendere', 'repubblica', 'resistere', 'restare', 'resto', 'ricchezza', 'ricco', 'ricerca', 'ricevere', 'richiedere', 'riconoscere', 'ricordare', 'ricordo', 'ridere', 'ridurre', 'riempire', 'rientrare', 'riferire', 'rifiutare', 'riguardare', 'rimanere', 'rimettere', 'ringraziare', 'ripetere', 'riportare', 'riprendere', 'risolvere', 'rispetto', 'rispondere', 'risposta', 'risultare', 'risultato', 'ritenere', 'ritornare', 'ritorno', 'ritrovare', 'riunire', 'riuscire', 'riva', 'rivedere', 'rivelare', 'rivolgere', 'rivoluzione', 'roba', 'romano', 'rompere', 'rosso', 'russo', 'sacrificio', 'sacro', 'sala', 'salire', 'saltare', 'salutare', 'salvare', 'sangue', 'sapere', 'sbagliare', 'scala', 'scappare', 'scegliere', 'scena', 'scendere', 'scherzare', 'scienza', 'scomparire', 'scopo', 'scoppiare', 'scoprire', 'scorrere', 'scrittore', 'scrivere', 'scuola', 'scusare', 'se', 'secolo', 'secondo', 'sede', 'sedere', 'segnare', 'segno', 'segretario', 'segreto', 'seguire', 'seguito', 'sembrare', 'semplice', 'senso', 'sentimento', 'sentire', 'senza', 'sera', 'sereno', 'serie', 'serio', 'servire', 'servizio', 'settimana', 'sforzo', 'sguardo', 'si', 'sicurezza', 'sicuro', 'significare', 'signora', 'signore', 'signorina', 'silenzio', 'simile', 'sinistro', 'sino', 'sistema', 'situazione', 'smettere', 'sociale', 'società', 'soffrire', 'sognare', 'sogno', 'soldato', 'sole', 'solito', 'solo', 'soltanto', 'soluzione', 'sonno', 'sopra', 'soprattutto', 'sorella', 'sorgere', 'sorprendere', 'sorridere', 'sorriso', 'sostenere', 'sottile', 'sotto', 'spalla', 'spazio', 'speciale', 'specie', 'spegnere', 'speranza', 'sperare', 'spesa', 'spesso', 'spettacolo', 'spiegare', 'spingere', 'spirito', 'sposare', 'stabilire', 'staccare', 'stagione', 'stamattina', 'stampa', 'stanco', 'stanza', 'stare', 'stasera', 'stato', 'stazione', 'stella', 'stesso', 'storia', 'storico', 'strada', 'straniero', 'strano', 'straordinario', 'stringere', 'strumento', 'studiare', 'studio', 'stupido', 'su', 'subito', 'succedere', 'successo', 'sud', 'suo', 'suonare', 'superare', 'superiore', 'svegliare', 'sviluppo', 'svolgere', 'sì', 'tacere', 'tagliare', 'tale', 'tanto', 'tardi', 'tavola', 'tavolo', 'teatro', 'tecnico', 'tedesco', 'temere', 'tempo', 'tendere', 'tenere', 'tentare', 'termine', 'terreno', 'territorio', 'terzo', 'testa', 'tipo', 'tirare', 'titolo', 'toccare', 'togliere', 'tono', 'tornare', 'tra', 'tranquillo', 'trarre', 'trascinare', 'trasformare', 'trattare', 'tratto', 'treno', 'triste', 'troppo', 'trovare', 'tu', 'tuo', 'tuttavia', 'tutto', 'uccidere', 'udire', 'ufficiale', 'ufficio', 'uguale', 'ultimo', 'umano', 'un', 'unico', 'unire', 'università', 'uno', 'uomo', 'usare', 'uscire', 'uso', 'utile', 'valere', 'valle', 'valore', 'vario', 'vasto', 'vecchio', 'vedere', 'vendere', 'venire', 'vento', 'veramente', 'verde', 'verità', 'vero', 'verso', 'vestire', 'vestito', 'vi', 'via', 'viaggio', 'vicino', 'villa', 'vincere', 'vino', 'visita', 'viso', 'vista', 'vita', 'vivere', 'vivo', 'voce', 'voglia', 'voi', 'volare', 'volere', 'volgere', 'volontà', 'volta', 'voltare', 'volto', 'vostro', 'vuoto', 'zia', 'zio', 'zitto', 'zona')\n",
    "\n",
    "def bin_search(word):\n",
    "    low = 0\n",
    "    high = len(voc) - 1\n",
    "    attemps = 0\n",
    "    while low <= high:\n",
    "        mid = (low + high) // 2\n",
    "        attemps += 1\n",
    "        if word == voc[mid]:\n",
    "            return mid, attemps\n",
    "        elif word < voc[mid]:\n",
    "            high = mid\n",
    "        else:\n",
    "            low = mid + 1\n",
    "    return (-1, attemps)\n",
    "\n",
    "def bin_search(word):\n",
    "    low = 0\n",
    "    high = len(voc) - 1  # Correct initialization of high\n",
    "    attempts = 0\n",
    "    while low <= high:\n",
    "        mid = (low + high) // 2\n",
    "        attempts += 1\n",
    "        if word == voc[mid]:\n",
    "            return mid, attempts\n",
    "        elif word < voc[mid]:\n",
    "            high = mid - 1  # Correctly narrow down the search range\n",
    "        else:\n",
    "            low = mid + 1\n",
    "    return -1, attempts\n",
    "\n",
    "print(bin_search(''))"
   ]
  },
  {
   "cell_type": "code",
   "execution_count": null,
   "metadata": {},
   "outputs": [],
   "source": []
  },
  {
   "cell_type": "markdown",
   "metadata": {},
   "source": [
    "Write a function vowels(s) that takes as parameter a string and returns a list containing, only once, the vowels present in s.\n",
    "In the list the vowels are presented as lowercase, but they must be considered both the lower case ones and the upper case ones in the original string s.\n",
    "\n",
    "The order of the vowels in the returned list is the same one with which they appear (the first time) in the string. \n",
    "\n",
    "Use the while loop and the lower() method.\n",
    "\n",
    "Do not use the for loop - to check this, you are not allowed in this test to use any words (even in comments) containing the substring for.\n",
    "\n",
    "### Examples\n",
    "\n",
    "| Test | Result |\n",
    "|------|--------|\n",
    "| `print(vowels('Ciao Mondo!'))` | `['i', 'a', 'o']` |\n",
    "| `print(vowels('AAA'))` | `['a']` |\n",
    "| `print(vowels('Sn n strg snz vcl'))` | `[]` |\n",
    "| `print(vowels('#A##I#o#U#'))` | `['a', 'i', 'o', 'u']` |\n",
    "| `print(vowels(''))` | `[]` |\n"
   ]
  },
  {
   "cell_type": "code",
   "execution_count": 85,
   "metadata": {},
   "outputs": [
    {
     "name": "stdout",
     "output_type": "stream",
     "text": [
      "['e', 'o']\n",
      "['a']\n"
     ]
    },
    {
     "data": {
      "text/plain": [
       "[]"
      ]
     },
     "execution_count": 85,
     "metadata": {},
     "output_type": "execute_result"
    }
   ],
   "source": [
    "def vowels(s):\n",
    "    s = s.lower()\n",
    "    vowels = 'aeiou'\n",
    "    result = []\n",
    "    index = 0\n",
    "    while index < len(s):\n",
    "        char = s[index]\n",
    "        if char in vowels and char not in result:\n",
    "            result.append(char)\n",
    "        index += 1\n",
    "    return result\n",
    "\n",
    "print(vowels('Hello World'))  # ['e', 'o']\n",
    "print(vowels(\"AAA\"))\n",
    "vowels(\"\")"
   ]
  },
  {
   "cell_type": "markdown",
   "metadata": {},
   "source": [
    "A sequence of integers seqs is cyclic mod k (k is a positive integer) if:\n",
    "For each index `i`, the element `seq[i+1]` is the successor mod `k` of `seq[i]`; `seq[0]` is the successor mod `k` of the last `seq` element.\n",
    "\n",
    "Write a `cycle(seq, k)` function that takes a sequence (list, tuple, range) of integers `seq` and an integer `k` greater than 0, and checks if `seq` is cyclic modulo `k`.\n",
    "\n",
    "Use the `while` loop.\n",
    "\n",
    "Do not use the `for` loop - to check this, you are not allowed in this test to use any words (even in comments) containing the substring `for`.\n",
    "\n",
    "### Examples\n",
    "\n",
    "| Test | Result |\n",
    "|------|--------|\n",
    "| `print(cycle((1,0,1,0), 2))` | `True` |\n",
    "| `print(cycle([1,2], 3))` | `False` |\n",
    "| `print(cycle(range(10), 10))` | `True` |\n",
    "| `print(cycle((), 2))` | `True` |\n",
    "| `print(cycle((0,), 2))` | `False` |\n",
    "| `print(cycle([0]*4, -1))` | `True` |\n",
    "| `print(cycle((-1,0,-1,0), -2))` | `True` |\n",
    "| `print(cycle((-1,0,-1,0,-1), -2))` | `False` |\n"
   ]
  },
  {
   "cell_type": "code",
   "execution_count": 13,
   "metadata": {},
   "outputs": [
    {
     "name": "stdout",
     "output_type": "stream",
     "text": [
      "True\n",
      "False\n",
      "True\n"
     ]
    }
   ],
   "source": [
    "def cycle(seq, k):\n",
    "    if not seq:\n",
    "        return False\n",
    "    index = 0\n",
    "    while index < len(seq)-1:\n",
    "        if (seq[index] + 1) % k != seq[index + 1] % k:\n",
    "            return False\n",
    "        index += 1\n",
    "    if (seq[-1] + 1) % k != seq[0] % k:\n",
    "        return False\n",
    "    return True\n",
    "\n",
    "print(cycle([1, 2, 3, 4, 5], 5))  # True\n",
    "print(cycle([1, 2, 3, 4, 5], 4)) # False\n",
    "print(cycle((1, 0, 1, 0), 2)) # True\n"
   ]
  },
  {
   "cell_type": "markdown",
   "metadata": {},
   "source": [
    "The mode of a list is the most frequent item on the list.\n",
    "For example, the mode of [2,7,5,7,7,2,4] is 7, which appears 3 times. The most frequent values (tie) can be more than one.\n",
    "For example, the mode of [1,2,99,1,0,2] is 1, 2 which appears 2 times each. \n",
    "\n",
    "Write a function `mode(L)` which returns the mode of `L` as a list.\n",
    "Suppose (without checking) that the elements of `L` are immutable (and therefore can be dictionary keys).\n",
    "\n",
    "Tips:\n",
    "- Use a dictionary for frequencies.\n",
    "- Use an auxiliary function (do not use the default `max`) that returns the maximum item in a list.\n",
    "\n",
    "P.S. The `sorted` function in the example tests sorts elements in the result list, to prevent correct solutions from failing because of a different order of elements in the list.\n",
    "\n",
    "### Examples\n",
    "\n",
    "| Test | Result |\n",
    "|------|--------|\n",
    "| `print(sorted(mode([2,7,5,7,'book',7,2,4])))` | `[7]` |\n",
    "| `print(sorted(mode(['a',1,2,99,1,0,2])))` | `[1, 2]` |\n",
    "| `print(sorted(mode([53,6,(9,3),(9,3),53,1,(9,3)])))` | `[(9, 3)]` |\n",
    "| `print(sorted(mode([78,78,78,78,78,91])))` | `[78]` |\n",
    "| `print(sorted(mode([('a','b',3),5,('a','b',3),7])))` | `[('a', 'b', 3)]` |\n"
   ]
  },
  {
   "cell_type": "code",
   "execution_count": 23,
   "metadata": {},
   "outputs": [
    {
     "name": "stdout",
     "output_type": "stream",
     "text": [
      "[5]\n",
      "[4]\n",
      "[7]\n",
      "[('a', 'b', 3)]\n"
     ]
    }
   ],
   "source": [
    "def mode(L):\n",
    "    frequencies = {}\n",
    "    for item in L:\n",
    "        if item in frequencies:\n",
    "            frequencies[item] += 1\n",
    "        else:\n",
    "            frequencies[item] = 1\n",
    "    more_frequent = None\n",
    "    for key, value in frequencies.items():\n",
    "        if more_frequent == None:\n",
    "            more_frequent = value\n",
    "        if value > more_frequent:\n",
    "            more_frequent = value\n",
    "    result = []\n",
    "    for key, value in frequencies.items():\n",
    "        if value == more_frequent:\n",
    "            result.append(key)\n",
    "        \n",
    "    return result\n",
    "\n",
    "print(mode([1, 2, 3, 4, 5, 5, 5, 5, 5]))  # 5\n",
    "print(mode([1, 2, 3, 4, 5, 5, 5, 4, 4, 4, 4]))  # 4\n",
    "print(mode([2,7,5,7,'book',7,2,4]))\n",
    "print(mode([('a','b',3),5,('a','b',3),7]))\n"
   ]
  },
  {
   "cell_type": "markdown",
   "metadata": {},
   "source": [
    "Write a function dict_to_str(D) that takes as parameter a dictionary D (which represents a string, see below) and returns that string.\n",
    "The dictionary items are of the kind `<character>:[<list of indexes>]`, where the key is a character of the string, and the value is the list of all indexes of that character in the string.\n",
    "Note that the keys of `D` are all the unique characters of the string to be returned.\n",
    "Moreover, the order of the dictionary items, and also of indexes in the lists, is not relevant, and should not influence the function results.\n",
    "\n",
    "Suppose - without checking - that `D` is a dictionary, its keys are strings representing characters, and its values are lists of integer indexes."
   ]
  },
  {
   "cell_type": "code",
   "execution_count": 28,
   "metadata": {},
   "outputs": [
    {
     "name": "stdout",
     "output_type": "stream",
     "text": [
      "mom!\n",
      "A whole sentence.\n"
     ]
    }
   ],
   "source": [
    "def dict_to_str(D:dict)->str:\n",
    "    max_index = max(max(value) for value in D.values())\n",
    "    result = [''] * (max_index + 1)\n",
    "    for key, value in D.items():\n",
    "        for val in value:\n",
    "            result[val] = key\n",
    "    return ''.join(result)\n",
    "\n",
    "print(dict_to_str({'m': [0,2], 'o': [1], '!':[3]}))\n",
    "\t\n",
    "print(dict_to_str({'A': [0], ' ': [1, 7], 'w': [2], 'h': [3], 'o': [4], 'l': [5], 'e': [6, 9, 12, 15], 's': [8], 'n': [10, 13], 't': [11], 'c': [14], '.': [16]}))"
   ]
  },
  {
   "cell_type": "markdown",
   "metadata": {},
   "source": [
    "Write a function invert(D) which takes as a parameter a dictionary whose values are immutable objects returns a new dictionary, inverse of D, that is:\n",
    "Each distinct value of `D` becomes a key in the resulting dictionary. For each inverted dictionary key, the value will be a list of the original keys associated with that value.\n",
    "\n",
    "### Example\n",
    "\n",
    "| Input | Result |\n",
    "|------|-------|\n",
    "| D = {'a':2, 'b':2, 'c':3, 'd':4, 'e':3,'f':0, 'g':3, 'h':2} | {2: ['a', 'b', 'h'], 3: ['c', 'e', 'g'], 4: ['d'], 0: ['f']} |\n",
    "| D = {} | {} |\n",
    "| D = {1:'a', 2:'b', 3:'c'} | {'a': [1], 'b': [2], 'c': [3]} |\n",
    "| D = {'a':'a', 'b':'a', 'c':'a'} | {'a': ['a', 'b', 'c']} |\n"
   ]
  },
  {
   "cell_type": "code",
   "execution_count": 32,
   "metadata": {},
   "outputs": [
    {
     "name": "stdout",
     "output_type": "stream",
     "text": [
      "{2: ['a', 'b', 'h'], 3: ['c', 'e', 'g'], 4: ['d'], 0: ['f']}\n"
     ]
    }
   ],
   "source": [
    "def invert(D:dict) -> dict:\n",
    "    result = {}\n",
    "    for key, val in D.items():\n",
    "        if val in result:\n",
    "            result[val].append(key)\n",
    "        else:\n",
    "            result[val] = [key]\n",
    "    return result\n",
    "\n",
    "print(invert({'a':2, 'b':2, 'c':3, 'd':4, 'e':3,'f':0, 'g':3, 'h':2}))"
   ]
  },
  {
   "cell_type": "markdown",
   "metadata": {},
   "source": [
    "Write a function threes(a,b) that takes 2 integers as parameters and returns, using only one instruction (return of a list comprehension), the list of integers between a and b (both endpoints included!) that contain the digit 3.\n",
    "For example:\n",
    "\n",
    "| Test | Result |\n",
    "|------|--------|\n",
    "| `print(threes(0,100))` | `[3, 13, 23, 30, 31, 32, 33, 34, 35, 36, 37, 38, 39, 43, 53, 63, 73, 83, 93]` |\n",
    "| `print(threes(4,12))` | `[]` |\n",
    "| `print(threes(3,33))` | `[3, 13, 23, 30, 31, 32, 33]` |\n",
    "| `print(threes(-2000,-1000))` | `[-1993, -1983, -1973, -1963, -1953, -1943, -1939, -1938, -1937, -1936, -1935, -1934, -1933]` |\n"
   ]
  },
  {
   "cell_type": "code",
   "execution_count": 35,
   "metadata": {},
   "outputs": [
    {
     "name": "stdout",
     "output_type": "stream",
     "text": [
      "[]\n",
      "[3, 13, 23, 30, 31, 32, 33]\n"
     ]
    }
   ],
   "source": [
    "def threes(a:int,b:int)->list:\n",
    "    return [i for i in range(a,b+1) if str(i).count('3')]\n",
    "print(threes(4, 12))\n",
    "print(threes(3, 33))"
   ]
  },
  {
   "cell_type": "markdown",
   "metadata": {},
   "source": [
    "Write a function flatten(LL) that takes a list of lists of integers, and creates a new list wich is simply a list of integers. Use only one instruction (return of a list comprehension) inside the function.\n",
    "For example:\n",
    "\n",
    "| Test | Result |\n",
    "|------|--------|\n",
    "| `print(flatten([[1,2,3], [4,5,6], [7,8,9]]))` | `[1, 2, 3, 4, 5, 6, 7, 8, 9]` |\n",
    "| `print(flatten([[]]))` | `[]` |\n",
    "| `print(flatten([[0],[],[1]]))` | `[0, 1]` |\n",
    "| `print(flatten([[10,9,8]]))` | `[10, 9, 8]` |\n"
   ]
  },
  {
   "cell_type": "code",
   "execution_count": 36,
   "metadata": {},
   "outputs": [
    {
     "name": "stdout",
     "output_type": "stream",
     "text": [
      "[1, 2, 3, 4, 5, 6, 7, 8, 9]\n",
      "[]\n",
      "[0, 1]\n"
     ]
    }
   ],
   "source": [
    "def flatten(LL):\n",
    "    return [item for sublist in LL for item in sublist]\n",
    "print(flatten([[1,2,3], [4,5,6], [7,8,9]]))\n",
    "print(flatten([[]]))\n",
    "print(flatten([[0],[],[1]]))"
   ]
  },
  {
   "cell_type": "markdown",
   "metadata": {},
   "source": [
    "Write a merge(LD) function that takes a list (assume it is, without controls) LD of dictionaries as a parameter (if not, return None). Dictionary keys are of any type allowable for a key, the values of any type but not lists (if you find a list, return None). The function returns a new dictionary obtained by merging all dictionaries.\n",
    "In case the same key is present in more than one LD dictionary:\n",
    "if all values `val` associated with `key` in different dictionaries are the same, then the resulting dictionary will contain the `key:val` item only once.\n",
    "if there are different values (`val1`, `val2`, ..., `valk`) for `key` in LD dictionaries, the resulting dictionary must have the item `key:[val1,val2,...,valk]` i.e. the key will have as value a list with all the distinct k-values (without duplicates) associated in the different dictionaries to the key.\n",
    "\n",
    "### Example\n",
    "\n",
    "Example:\n",
    "```python\n",
    "D1 = {1:'E1',2:'R4',3:'M2'}\n",
    "D2 = {2:'V3',3:'M2',(5,'a'):'G?1'}\n",
    "merge([D1, D2])  # returns {1: 'E1', 2: ['R4', 'V3'], 3: 'M2', (5, 'a'): 'G?1'}\n",
    "```\n",
    "\n",
    "For example:\n",
    "\n",
    "| Test | Result |\n",
    "|------|--------|\n",
    "| `print(merge([{1:'E1',2:'R4',3:'M2'}, {2:'V3',3:'M2',(5,'a'):'G?1'}]) == {1: 'E1', 2: ['R4', 'V3'], 3: 'M2', (5, 'a'): 'G?1'})` | `True` |\n",
    "| `print(merge([{(1,2):5,(4,5):8,(1,2):6}, {(1,3):0,(4,5):8,(1,2):-1}]) == {(1, 2): [6, -1], (4, 5): 8, (1, 3): 0})` | `True` |\n",
    "| `print(merge([{'A':5,'B':6, (1,'Z'):3, 'D':(-6,-1)}, {'B':5,'C':7, (1,'Z'):4, 'E':(7,8)}, {'B':6,'E':-22, 99:99, 'D':(-6,-1)}, {'A':5,'B':6, (1,'Z'):3}]) == {'A': 5, 'B': [6, 5], (1, 'Z'): [3, 4], 'D': (-6, -1), 'C': 7, 'E': [(7, 8), -22], 99: 99})` | `True` |\n",
    "| `print(merge([{(1,2):5,(4,5):8,(1,2):6}, {(1,3):0,(4,5):8,(1,2):-1}, 1000]) == None)` | `True` |\n",
    "| `print(merge([{1:'E1',2:['R4','F5'],3:'M2'}, {2:'V3',3:'M2',(5,'a'):'G?1'}]) == None)` | `True` |\n"
   ]
  },
  {
   "cell_type": "code",
   "execution_count": 20,
   "metadata": {},
   "outputs": [],
   "source": [
    "#do not insert prints or tests\n",
    "def merge(LD): #LD list of dictionaries\n",
    "    result = {}\n",
    "    for item in LD:\n",
    "        if type(item) != dict:\n",
    "            return\n",
    "        for key, value in item.items():\n",
    "            if type(value) == list:\n",
    "                return\n",
    "            if key in result:\n",
    "                tmp = result[key]\n",
    "                if type(tmp) == list:\n",
    "                    if value not in tmp:\n",
    "                        result[key].append(value)\n",
    "                else:\n",
    "                    if tmp != value:\n",
    "                        result[key] = [tmp, value]\n",
    "            else:\n",
    "                result[key] = value\n",
    "    return result\n",
    "    "
   ]
  },
  {
   "cell_type": "code",
   "execution_count": 21,
   "metadata": {},
   "outputs": [
    {
     "data": {
      "text/plain": [
       "{1: 'E1', 2: ['R4', 'V3'], 3: 'M2', (5, 'a'): 'G?1'}"
      ]
     },
     "execution_count": 21,
     "metadata": {},
     "output_type": "execute_result"
    }
   ],
   "source": [
    "merge([{1:'E1',2:'R4',3:'M2'}, {2:'V3',3:'M2',(5,'a'):'G?1'}])"
   ]
  },
  {
   "cell_type": "code",
   "execution_count": 22,
   "metadata": {},
   "outputs": [
    {
     "data": {
      "text/plain": [
       "{'A': 5,\n",
       " 'B': [6, 5],\n",
       " (1, 'Z'): [3, 4],\n",
       " 'D': (-6, -1),\n",
       " 'C': 7,\n",
       " 'E': [(7, 8), -22],\n",
       " 99: 99}"
      ]
     },
     "execution_count": 22,
     "metadata": {},
     "output_type": "execute_result"
    }
   ],
   "source": [
    "merge([{'A':5,'B':6, (1,'Z'):3, 'D':(-6,-1)}, {'B':5,'C':7, (1,'Z'):4, 'E':(7,8)}, {'B':6,'E':-22, 99:99, 'D':(-6,-1)}, {'A':5,'B':6, (1,'Z'):3}])"
   ]
  },
  {
   "cell_type": "code",
   "execution_count": 23,
   "metadata": {},
   "outputs": [
    {
     "name": "stdout",
     "output_type": "stream",
     "text": [
      "True\n",
      "True\n",
      "True\n",
      "True\n",
      "True\n"
     ]
    }
   ],
   "source": [
    "print(merge([{1:'E1',2:'R4',3:'M2'}, {2:'V3',3:'M2',(5,'a'):'G?1'}]) == {1: 'E1', 2: ['R4', 'V3'], 3: 'M2', (5, 'a'): 'G?1'})\n",
    "print(merge([{(1,2):5,(4,5):8,(1,2):6}, {(1,3):0,(4,5):8,(1,2):-1}]) == {(1, 2): [6, -1], (4, 5): 8, (1, 3): 0})\n",
    "print(merge([{'A':5,'B':6, (1,'Z'):3, 'D':(-6,-1)}, {'B':5,'C':7, (1,'Z'):4, 'E':(7,8)}, {'B':6,'E':-22, 99:99, 'D':(-6,-1)}, {'A':5,'B':6, (1,'Z'):3}]) == {'A': 5, 'B': [6, 5], (1, 'Z'): [3, 4], 'D': (-6, -1), 'C': 7, 'E': [(7, 8), -22], 99: 99})\n",
    "print(merge([{(1,2):5,(4,5):8,(1,2):6}, {(1,3):0,(4,5):8,(1,2):-1}, 1000]) == None)\n",
    "print(merge([{1:'E1',2:['R4','F5'],3:'M2'}, {2:'V3',3:'M2',(5,'a'):'G?1'}]) == None)\n"
   ]
  },
  {
   "cell_type": "markdown",
   "metadata": {},
   "source": [
    "Write a function frequencies(s) that takes a string as parameter and returns a dictionary in which:\n",
    "- The keys are the alphanumeric characters (digits + `ascii_letters` of the `string` module) present in the string (if the last character appears only at the end of the string, it doesn't matter to put it in the dictionary).\n",
    "\n",
    "- The values are dictionaries as well that have:\n",
    "    - As keys, any type of characters that follow immediately the character considered.\n",
    "    - As values, the frequency with which that character follows the considered character.\n",
    "\n",
    "### Example\n",
    "\n"
   ]
  },
  {
   "cell_type": "code",
   "execution_count": 27,
   "metadata": {},
   "outputs": [
    {
     "name": "stdout",
     "output_type": "stream",
     "text": [
      "abcdefghijklmnopqrstuvwxyz\n"
     ]
    }
   ],
   "source": [
    "filtered_s = ''.join([char for char in s if char.isalnum()])\n",
    "print(filtered_s)\n"
   ]
  },
  {
   "cell_type": "code",
   "execution_count": 15,
   "metadata": {},
   "outputs": [],
   "source": [
    "\n",
    "def frequencies(s):\n",
    "    result = {}\n",
    "    for index, char in enumerate(s):\n",
    "        if char.isalnum():\n",
    "            if s[index] in result:\n",
    "                if index < len(s)-1:\n",
    "                    result[s[index]][s[index+1]] = result[s[index]].get(s[index+1], 0) + 1\n",
    "            else:\n",
    "                if index < len(s)-1:\n",
    "                    result[s[index]] = {s[index+1]:1}\n",
    "    return result\n",
    "        "
   ]
  },
  {
   "cell_type": "code",
   "execution_count": 16,
   "metadata": {},
   "outputs": [
    {
     "data": {
      "text/plain": [
       "{'A': {'m': 1},\n",
       " 'm': {'a': 1},\n",
       " 'a': {'r': 1},\n",
       " 'r': {'c': 1, 'd': 1},\n",
       " 'c': {'o': 1},\n",
       " 'o': {'r': 1},\n",
       " 'd': {'.': 1}}"
      ]
     },
     "execution_count": 16,
     "metadata": {},
     "output_type": "execute_result"
    }
   ],
   "source": [
    "frequencies('Amarcord...')"
   ]
  },
  {
   "cell_type": "code",
   "execution_count": 17,
   "metadata": {},
   "outputs": [
    {
     "name": "stdout",
     "output_type": "stream",
     "text": [
      "True\n"
     ]
    }
   ],
   "source": [
    "print(frequencies(\"That's all folks\") == {'T': {'h': 1}, 'h': {'a': 1}, 'a': {'t': 1, 'l': 1}, 't': {\"'\": 1}, 's': {' ': 1}, 'l': {'l': 1, ' ': 1, 'k': 1}, 'f': {'o': 1}, 'o': {'l': 1}, 'k': {'s': 1}})\n"
   ]
  },
  {
   "cell_type": "code",
   "execution_count": 13,
   "metadata": {},
   "outputs": [
    {
     "name": "stdout",
     "output_type": "stream",
     "text": [
      "True\n"
     ]
    }
   ],
   "source": [
    "print(frequencies('Amarcord...') == {'A': {'m': 1}, 'm': {'a': 1}, 'a': {'r': 1}, 'r': {'c': 1, 'd': 1}, 'c': {'o': 1}, 'o': {'r': 1}, 'd': {'.': 1}})\n"
   ]
  },
  {
   "cell_type": "code",
   "execution_count": 23,
   "metadata": {},
   "outputs": [
    {
     "data": {
      "text/plain": [
       "[0, 1, 2, 3, 4, 5, 6, 7, 8, 9, 10]"
      ]
     },
     "execution_count": 23,
     "metadata": {},
     "output_type": "execute_result"
    }
   ],
   "source": [
    "[element for element in range(11)]"
   ]
  },
  {
   "cell_type": "code",
   "execution_count": 32,
   "metadata": {},
   "outputs": [],
   "source": [
    "m = 1"
   ]
  },
  {
   "cell_type": "code",
   "execution_count": 33,
   "metadata": {},
   "outputs": [
    {
     "data": {
      "text/plain": [
       "([0], [0, 1, 2, 3, 4, 5, 6, 7, 8, 9, 10])"
      ]
     },
     "execution_count": 33,
     "metadata": {},
     "output_type": "execute_result"
    }
   ],
   "source": [
    "[element for element in range(1)], [number for number in range(11)]"
   ]
  },
  {
   "cell_type": "code",
   "execution_count": 34,
   "metadata": {},
   "outputs": [
    {
     "data": {
      "text/plain": [
       "[]"
      ]
     },
     "execution_count": 34,
     "metadata": {},
     "output_type": "execute_result"
    }
   ],
   "source": [
    "0*[0, 1, 2, 3, 4, 5, 6, 7, 8, 9, 10]"
   ]
  },
  {
   "cell_type": "code",
   "execution_count": 36,
   "metadata": {},
   "outputs": [
    {
     "data": {
      "text/plain": [
       "[[0, 0, 0, 0, 0, 0, 0, 0, 0, 0, 0], [0, 1, 2, 3, 4, 5, 6, 7, 8, 9, 10]]"
      ]
     },
     "execution_count": 36,
     "metadata": {},
     "output_type": "execute_result"
    }
   ],
   "source": [
    "[ [element*elemento for element in range(11)]  for elemento in range(m+1)]"
   ]
  },
  {
   "cell_type": "code",
   "execution_count": 39,
   "metadata": {},
   "outputs": [],
   "source": [
    "#do not insert prints or tests\n",
    "def listdivisible(a, b, c, d):\n",
    "    return [ element for element in range(a, b+1) if all(element % divisor==0 for divisor in range(c, d+1)) ]"
   ]
  },
  {
   "cell_type": "code",
   "execution_count": 40,
   "metadata": {},
   "outputs": [
    {
     "name": "stdout",
     "output_type": "stream",
     "text": [
      "[210]\n"
     ]
    }
   ],
   "source": [
    "print(listdivisible(1,210,5,7))"
   ]
  },
  {
   "cell_type": "markdown",
   "metadata": {},
   "source": [
    "Write a one-line function invert(D) which takes as a parameter a dictionary whose values are immutable objects returns a new dictionary, inverse of D, that is:\n",
    "- each distinct value of D becomes a key in the resulting dictionary\n",
    "- for each inverted dictionary key, the value will be a list of the original keys associated with that value\n"
   ]
  },
  {
   "cell_type": "code",
   "execution_count": 41,
   "metadata": {},
   "outputs": [],
   "source": [
    "def invert(D):\n",
    "    return {value:[key for key in D.keys() if D[key] == value] for value in set(D.values())}"
   ]
  },
  {
   "cell_type": "code",
   "execution_count": 42,
   "metadata": {},
   "outputs": [
    {
     "name": "stdout",
     "output_type": "stream",
     "text": [
      "{}\n"
     ]
    }
   ],
   "source": [
    "D = {}\n",
    "print(invert(D))"
   ]
  },
  {
   "cell_type": "markdown",
   "metadata": {},
   "source": []
  }
 ],
 "metadata": {
  "kernelspec": {
   "display_name": ".venv",
   "language": "python",
   "name": "python3"
  },
  "language_info": {
   "codemirror_mode": {
    "name": "ipython",
    "version": 3
   },
   "file_extension": ".py",
   "mimetype": "text/x-python",
   "name": "python",
   "nbconvert_exporter": "python",
   "pygments_lexer": "ipython3",
   "version": "3.11.4"
  }
 },
 "nbformat": 4,
 "nbformat_minor": 2
}
