{
 "cells": [
  {
   "cell_type": "code",
   "execution_count": 4,
   "metadata": {},
   "outputs": [],
   "source": [
    "#do not insert print or tests\n",
    "\n",
    "def foo(S):\n",
    "    track = {}\n",
    "    for item in S:\n",
    "        if item not in track.keys():\n",
    "            track[item] = 1\n",
    "        else:\n",
    "            track[item] += 1\n",
    "    new_track = {v: k for k, v in track.items()}\n",
    "    result_list = []\n",
    "    list_frequencies = list(new_track.keys())\n",
    "    list_frequencies.sort()\n",
    "    for frequency in list_frequencies:\n",
    "        result_list.append(new_track[frequency])\n",
    "    return result_list\n",
    "    "
   ]
  },
  {
   "cell_type": "code",
   "execution_count": 5,
   "metadata": {},
   "outputs": [],
   "source": [
    "test = {1: 1, 2: 2, 3: 4}"
   ]
  },
  {
   "cell_type": "code",
   "execution_count": 6,
   "metadata": {},
   "outputs": [
    {
     "name": "stdout",
     "output_type": "stream",
     "text": [
      "[1, 2, 3]\n"
     ]
    }
   ],
   "source": [
    "print(foo([1,2,2,3,3,3,3]))\n"
   ]
  },
  {
   "cell_type": "code",
   "execution_count": 7,
   "metadata": {},
   "outputs": [
    {
     "data": {
      "text/plain": [
       "{1: 1, 2: 1, 3: 1}"
      ]
     },
     "execution_count": 7,
     "metadata": {},
     "output_type": "execute_result"
    }
   ],
   "source": [
    "S = [1,2,1,1,2,3]\n",
    "track = {}\n",
    "for item in S:\n",
    "    if item not in track.keys():\n",
    "        track[item] = 1\n",
    "track"
   ]
  },
  {
   "cell_type": "code",
   "execution_count": 8,
   "metadata": {},
   "outputs": [
    {
     "name": "stdout",
     "output_type": "stream",
     "text": [
      "[1, 2, 3]\n"
     ]
    }
   ],
   "source": [
    "print(foo([1,2,2,3,3,3,3]))\n"
   ]
  },
  {
   "cell_type": "code",
   "execution_count": 9,
   "metadata": {},
   "outputs": [
    {
     "name": "stdout",
     "output_type": "stream",
     "text": [
      "[3, 2, 1]\n"
     ]
    }
   ],
   "source": [
    "print(foo([1,2,1,1,2,3]))\n"
   ]
  },
  {
   "cell_type": "code",
   "execution_count": 11,
   "metadata": {},
   "outputs": [],
   "source": [
    "def sum_one(L, index):\n",
    "    for i in range(index+1, len(L)):\n",
    "        L[i] += 1\n",
    "def is_fair(L):\n",
    "    for index in range(len(L)-1):\n",
    "        if L[index+1]==L[index] + 1:\n",
    "            return False, index\n",
    "    return True, -1\n",
    "def fair(L):\n",
    "    new_L = L\n",
    "    fair_bool, index = is_fair(new_L)\n",
    "    first_fair = fair_bool\n",
    "    while not fair_bool:\n",
    "        sum_one(L, index)\n",
    "        fair_bool, index = is_fair(L)\n",
    "    return first_fair, L"
   ]
  },
  {
   "cell_type": "code",
   "execution_count": 12,
   "metadata": {},
   "outputs": [
    {
     "data": {
      "text/plain": [
       "(True, -1)"
      ]
     },
     "execution_count": 12,
     "metadata": {},
     "output_type": "execute_result"
    }
   ],
   "source": [
    "is_fair([1, 3, 7, 10, 12])"
   ]
  },
  {
   "cell_type": "code",
   "execution_count": 13,
   "metadata": {},
   "outputs": [
    {
     "name": "stdout",
     "output_type": "stream",
     "text": [
      "(False, [1, 3, 7, 10, 12]) True\n"
     ]
    }
   ],
   "source": [
    "X=[1,2,6,9,10]\n",
    "idX=id(X)\n",
    "FX=fair(X)\n",
    "print(FX, id(FX[1])==idX)"
   ]
  },
  {
   "cell_type": "code",
   "execution_count": 18,
   "metadata": {},
   "outputs": [],
   "source": [
    "class B:\n",
    "    def __init__(self, value):\n",
    "        self.value = value\n",
    "    def __mul__(self, other):\n",
    "        return - self.value*other.value\n",
    "    \n",
    "        \n",
    "class A:\n",
    "    def __init__(self, value):\n",
    "        self.value = value\n",
    "    def __mul__(self, other):\n",
    "        return self.value * other.value"
   ]
  },
  {
   "cell_type": "code",
   "execution_count": 19,
   "metadata": {},
   "outputs": [
    {
     "name": "stdout",
     "output_type": "stream",
     "text": [
      "15\n",
      "-15\n"
     ]
    }
   ],
   "source": [
    "print(A(3)*B(5))\n",
    "print(B(3)*A(5))\n"
   ]
  },
  {
   "cell_type": "code",
   "execution_count": 29,
   "metadata": {},
   "outputs": [],
   "source": [
    "def exhaustgen(G):\n",
    "    iterator = iter(G)\n",
    "    while True:\n",
    "        try:\n",
    "            next(iterator)\n",
    "        except StopIteration:\n",
    "            break\n"
   ]
  },
  {
   "cell_type": "code",
   "execution_count": 30,
   "metadata": {},
   "outputs": [],
   "source": [
    "exhaustgen(i for i in range(4))"
   ]
  },
  {
   "cell_type": "code",
   "execution_count": 31,
   "metadata": {},
   "outputs": [
    {
     "name": "stdout",
     "output_type": "stream",
     "text": [
      "0\n",
      "1\n",
      "2\n",
      "3\n"
     ]
    }
   ],
   "source": [
    "exhaustgen(print(i) for i in range(4))"
   ]
  },
  {
   "cell_type": "code",
   "execution_count": 33,
   "metadata": {},
   "outputs": [
    {
     "data": {
      "text/plain": [
       "[(2, 1), (3, 2)]"
      ]
     },
     "execution_count": 33,
     "metadata": {},
     "output_type": "execute_result"
    }
   ],
   "source": [
    "D = {1:2, 2:3}\n",
    "LL=sorted(zip(D.values(),D.keys()))\n",
    "LL"
   ]
  },
  {
   "cell_type": "code",
   "execution_count": 36,
   "metadata": {},
   "outputs": [],
   "source": [
    "x = (i for i in range(4))\n",
    "iterator = iter(x)"
   ]
  },
  {
   "cell_type": "code",
   "execution_count": 37,
   "metadata": {},
   "outputs": [
    {
     "name": "stdout",
     "output_type": "stream",
     "text": [
      "0\n",
      "1\n",
      "2\n",
      "3\n"
     ]
    },
    {
     "ename": "StopIteration",
     "evalue": "",
     "output_type": "error",
     "traceback": [
      "\u001b[0;31m---------------------------------------------------------------------------\u001b[0m",
      "\u001b[0;31mStopIteration\u001b[0m                             Traceback (most recent call last)",
      "Cell \u001b[0;32mIn[37], line 2\u001b[0m\n\u001b[1;32m      1\u001b[0m \u001b[38;5;28;01mfor\u001b[39;00m i \u001b[38;5;129;01min\u001b[39;00m \u001b[38;5;28mrange\u001b[39m(\u001b[38;5;241m8\u001b[39m):\n\u001b[0;32m----> 2\u001b[0m     \u001b[38;5;28mprint\u001b[39m(\u001b[38;5;28;43mnext\u001b[39;49m\u001b[43m(\u001b[49m\u001b[43miterator\u001b[49m\u001b[43m)\u001b[49m)\n",
      "\u001b[0;31mStopIteration\u001b[0m: "
     ]
    }
   ],
   "source": [
    "for i in range(8):\n",
    "    print(next(iterator))"
   ]
  },
  {
   "cell_type": "code",
   "execution_count": 60,
   "metadata": {},
   "outputs": [],
   "source": [
    "def merge(L1,L2):\n",
    "    index_1 = 0\n",
    "    index_2 = 0\n",
    "    while index_2 < len(L2):\n",
    "        if index_1 < len(L1) and L1[index_1]< L2[index_2]:\n",
    "            index_1 +=1\n",
    "        else:\n",
    "            L1.insert(index_1, L2[index_2])\n",
    "            index_1 += 1\n",
    "            index_2 += 1\n",
    "    return L1"
   ]
  },
  {
   "cell_type": "code",
   "execution_count": 61,
   "metadata": {},
   "outputs": [
    {
     "name": "stdout",
     "output_type": "stream",
     "text": [
      "[0, 1, 2, 3, 4, 5, 6, 8, 10]\n"
     ]
    }
   ],
   "source": [
    "print(merge([1,3,5], [0,2,4,6,8,10]))"
   ]
  },
  {
   "cell_type": "code",
   "execution_count": 59,
   "metadata": {},
   "outputs": [
    {
     "name": "stdout",
     "output_type": "stream",
     "text": [
      "[0, 1, 2, 3, 4, 5, 6, 8, 10]\n"
     ]
    }
   ],
   "source": [
    "def merge(L1, L2):\n",
    "    index_L1 = 0\n",
    "    index_L2 = 0\n",
    "    while index_L2 < len(L2):\n",
    "        if index_L1 < len(L1) and L1[index_L1] < L2[index_L2]:\n",
    "            index_L1 += 1\n",
    "        else:\n",
    "            L1.insert(index_L1, L2[index_L2])\n",
    "            index_L1 += 1\n",
    "            index_L2 += 1\n",
    "    return L1\n",
    "\n",
    "print(merge([1, 3, 5], [0, 2, 4, 6, 8, 10]))\n"
   ]
  },
  {
   "cell_type": "code",
   "execution_count": null,
   "metadata": {},
   "outputs": [],
   "source": [
    "def merge(L1, L2):\n",
    "    index_L1 = 0\n",
    "    index_L2 = 0\n",
    "    while index_L2 < len(L2):\n",
    "        if index_L1 < len(L1) and L1[index_L1] < L2[index_L2]:\n",
    "            index_L1 += 1\n",
    "        else:\n",
    "            L1.insert(index_L1, L2[index_L2])\n",
    "            index_L1 += 1\n",
    "            index_L2 += 1\n",
    "    return L1\n",
    "\n",
    "print(merge([1, 3, 5], [0, 2, 4, 6, 8, 10]))\n"
   ]
  },
  {
   "cell_type": "code",
   "execution_count": 75,
   "metadata": {},
   "outputs": [],
   "source": [
    "class A:\n",
    "   def __init__(self,x):\n",
    "     self.xx=x\n",
    "class B(A):\n",
    "    #your definitions here\n",
    "    def __init__(self, n1, n2):\n",
    "        super().__init__(n1)\n",
    "        self.yy = n2\n",
    "    def __str__(self):\n",
    "        return f\"{self.xx+self.yy}\""
   ]
  },
  {
   "cell_type": "code",
   "execution_count": 76,
   "metadata": {},
   "outputs": [
    {
     "name": "stdout",
     "output_type": "stream",
     "text": [
      "30\n"
     ]
    }
   ],
   "source": [
    "b=B(10,20)\n",
    "print(b) \n"
   ]
  },
  {
   "cell_type": "code",
   "execution_count": 83,
   "metadata": {},
   "outputs": [],
   "source": [
    "import numpy as np\n",
    "\n",
    "def neg(A):\n",
    "    return np.where(A < 0, 0, -A)\n"
   ]
  },
  {
   "cell_type": "code",
   "execution_count": 84,
   "metadata": {},
   "outputs": [
    {
     "name": "stdout",
     "output_type": "stream",
     "text": [
      "[[-1  0 -3]\n",
      " [ 0 -5  0]\n",
      " [-7 -8  0]]\n"
     ]
    }
   ],
   "source": [
    "A =  np.array([[1,-2,3],\n",
    "                  [-4,5,-6],\n",
    "                  [7,8,0]])\n",
    "print(neg(A))"
   ]
  },
  {
   "cell_type": "code",
   "execution_count": null,
   "metadata": {},
   "outputs": [],
   "source": []
  }
 ],
 "metadata": {
  "kernelspec": {
   "display_name": ".venv",
   "language": "python",
   "name": "python3"
  },
  "language_info": {
   "codemirror_mode": {
    "name": "ipython",
    "version": 3
   },
   "file_extension": ".py",
   "mimetype": "text/x-python",
   "name": "python",
   "nbconvert_exporter": "python",
   "pygments_lexer": "ipython3",
   "version": "3.11.4"
  }
 },
 "nbformat": 4,
 "nbformat_minor": 2
}
