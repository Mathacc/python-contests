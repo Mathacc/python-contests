{
 "cells": [
  {
   "cell_type": "markdown",
   "metadata": {},
   "source": [
    "Given the class Fraction as developed so far and the skeleton of its subclass P representing the probability (intended as a positive ratio of favourable outcomes over the total number of possible outcomes), extend P respecting the following indications:\n",
    "- redefine the get method so that it returns only favorable cases and possible cases as a tuple of two elements (without sign, since it is always positive for P);\n",
    "- redefine the value method so that it returns the probability value in percentage terms (float between 0 and 100) and without making any rounding;\n",
    "- redefine the magic method __mul__ so that the multiplication of two probabilities returns an object of class P representing the combined probability of the two factors as independent events (the result must be reduced to the lowest terms)."
   ]
  },
  {
   "cell_type": "markdown",
   "metadata": {},
   "source": [
    "Test\tResult\n",
    "| Expression                | Output    |\n",
    "|---------------------------|-----------|\n",
    "| `print(P(1,3))`           | 33.33%    |\n",
    "| `print(P(7,21).get())`    | (7, 21)   |\n",
    "| `print(P(1,2) * P(1,5))`  | 10.0%     |\n",
    "| `print(P(2,5))`           | 40.0%     |\n",
    "| `print(P(65,90))`         | 72.22%    |\n",
    "| `print(P(44,45).get())`   | (44, 45)  |\n",
    "| `print(P(18,60).get())`   | (18, 60)  |\n",
    "| `print(P(2,4) * P(30,60))`| 25.0%     |\n",
    "| `print(P(1,4) * P(10,100))`| 2.5%     |\n"
   ]
  },
  {
   "cell_type": "code",
   "execution_count": 14,
   "metadata": {},
   "outputs": [],
   "source": [
    "from copy import deepcopy\n",
    "from math import gcd\n",
    "\n",
    "\n",
    "class Fraction:\n",
    "    def __init__(self, N, D=1):\n",
    "        if type(N)==int and type(D)==int and D>0:\n",
    "            if N < 0: \n",
    "                self.__sign = \"-\"\n",
    "                N = abs(N)\n",
    "            else:\n",
    "                self.__sign = \"+\"\n",
    "            self.__num = N   \n",
    "            self.__den = D \n",
    "        else: #in case of erroneus initialization, instantiate everything to None\n",
    "            self.__sign = None \n",
    "            self.__num = None\n",
    "            self.__den = None\n",
    "\n",
    "    def get(self):\n",
    "        return self.__sign, self.__num, self.__den\n",
    "    \n",
    "    def value(self,d):\n",
    "        if self.__sign == '+':\n",
    "            return round(self.__num/self.__den,d)\n",
    "        else:\n",
    "            return round(-self.__num/self.__den,d)\n",
    "\n",
    "    def reduce(self):\n",
    "        factor=gcd(self.__num,self.__den)\n",
    "        if factor>1:\n",
    "            self.__num=self.__num//factor # int\n",
    "            self.__den=self.__den//factor # int\n",
    "        return self\n",
    "\n",
    "    def __eq__(self, other):\n",
    "        sc = deepcopy(self)\n",
    "        oc = deepcopy(other)\n",
    "        sc.reduce() \n",
    "        oc.reduce()\n",
    "        return sc.__sign==oc.__sign and sc.__num==oc.__num and sc.__den==oc.__den\n",
    "    \n",
    "    def __str__(self):\n",
    "        return self.__sign+str(self.__num)+\"/\"+str(self.__den)\n",
    "    \n",
    "    def __add__(self, other):\n",
    "        ss, sn, sd = self.__sign, self.__num, self.__den \n",
    "        os, on, od = other.__sign, other.__num, other.__den\n",
    "        if ss == '+' and os == '+':\n",
    "            num = sn * od + on * sd\n",
    "        elif ss == '+' and os == '-':\n",
    "            num = sn * od - on * sd\n",
    "        elif ss == '-' and os == '+':\n",
    "            num = on * sd - sn * od\n",
    "        else:\n",
    "            num = - sn * od - on * sd\n",
    "        den = sd * od\n",
    "        f = Fraction(num, den)\n",
    "        f.reduce()\n",
    "        return f\n",
    "\n",
    "\n",
    "class P(Fraction):\n",
    "    def __init__(self, favourable, possible):\n",
    "        super().__init__(favourable, possible)\n",
    "        \n",
    "    def __str__(self):\n",
    "        return str(round(self.value(),2)) + \"%\"\n",
    "    \n",
    "    #add you code here\n",
    "    def get(self):\n",
    "        return self._Fraction__num, self._Fraction__den\n",
    "    def value(self):\n",
    "        if self._Fraction__sign == '+':\n",
    "            return (self._Fraction__num/self._Fraction__den)*100\n",
    "        else:\n",
    "            return (-self._Fraction__num/self._Fraction__den)*100\n",
    "    def __mul__(self, other):\n",
    "        return P(self._Fraction__num * other._Fraction__num, self._Fraction__den * other._Fraction__den)"
   ]
  },
  {
   "cell_type": "code",
   "execution_count": 15,
   "metadata": {},
   "outputs": [
    {
     "name": "stdout",
     "output_type": "stream",
     "text": [
      "33.33%\n",
      "(7, 21)\n",
      "10.0%\n",
      "40.0%\n",
      "72.22%\n",
      "(44, 45)\n",
      "25.0%\n"
     ]
    }
   ],
   "source": [
    "print(P(1,3))\n",
    "print(P(7,21).get())\n",
    "print(P(1,2) * P(1,5))\n",
    "print(P(2,5))\n",
    "print(P(65,90))\n",
    "print(P(44,45).get())\n",
    "print(P(2,4) * P(30,60))\n"
   ]
  },
  {
   "cell_type": "markdown",
   "metadata": {},
   "source": [
    "Develop class New_Fraction, where:\n",
    "The `__init__` method takes two parameters, `N` and `D`. The sign is included only in the numerator. If `D` is not passed, it has the default value of 1.\n",
    "\n",
    "The `__init__` method raises the following built-in exceptions, created by passing as a parameter a string with a message describing the error (for automated tests, the strings must be exactly as follows):\n",
    "\n",
    "- `TypeError(\"non integer numerator or denominator\")`, if `N` or `D` are not ints\n",
    "- `ZeroDivisionError(\"denominator is 0\")`, if `D` is 0\n",
    "- `ValueError(\"negative denominator, sign should be in numerator\")`, if `D < 0`\n",
    "\n",
    "If no exception is raised, we assign the values `N` and `D` to the private attributes of `Fraction` `__num` and `__den`.\n",
    "\n",
    "The magic method `__str__` is given. It returns a string in the format `num/den`, e.g., `-5/4`.\n",
    "\n",
    "For example:\n",
    "\n",
    "| Test       | Result                                                                 |\n",
    "|------------|------------------------------------------------------------------------|\n",
    "| pass       |                                                                        |\n",
    "| `-3 c`     | `Fraction NOT created: TypeError - non integer numerator or denominator` |\n",
    "| `-3 0`     | `Fraction NOT created: ZeroDivisionError - denominator is 0`           |\n",
    "| `-3 -2`    | `Fraction NOT created: ValueError - negative denominator, sign should be in numerator` |\n",
    "| Created fractions are: |                                                            |\n",
    "| `1/4`     |                                                                        |\n",
    "| `-3/2`    |                                                                        |\n",
    "| `5/1`     |                                                                        |\n",
    "| `8/9`     |                                                                        |\n"
   ]
  },
  {
   "cell_type": "code",
   "execution_count": null,
   "metadata": {},
   "outputs": [],
   "source": [
    "class New_Fraction:\n",
    "    #INSERT INIT HERE\n",
    "    def __init__(self, N, D=1):\n",
    "        if type(N) != int or type(D) != int:\n",
    "            raise TypeError(\"non integer numerator or denominator\")\n",
    "        if D == 0:\n",
    "            raise ZeroDivisionError(\"denominator is 0\")\n",
    "        if D < 0:\n",
    "            raise ValueError(\"negative denominator, sign should be in numerator\")\n",
    "        self.__num = N\n",
    "        self.__den = D\n",
    "\n",
    "    \n",
    "    #DO NOT MODIFY OR DELETE __str__ METHOD\n",
    "    def __str__(self):\n",
    "        return str(self.__num) + \"/\" + str(self.__den)\n",
    "\n",
    "#TEST: DO NOT MODIFY CODE BELOW\n",
    "L = [(1,4),(-3,'c'),(-3,0),(-3,-2),(-3,2),(5,1),(8,9)]\n",
    "F = []\n",
    "for (num, den) in L:\n",
    "    try:\n",
    "        f = New_Fraction(num,den)\n",
    "        F.append(f)\n",
    "    except Exception as e:\n",
    "        print(str(num), str(den), \"Fraction NOT created:\", type(e).__name__, \"-\", e)\n",
    "\n",
    "print(\"Created fractions are: \")\n",
    "for f in F:\n",
    "    print(f)\n",
    "\n",
    "\n",
    "\n"
   ]
  },
  {
   "cell_type": "markdown",
   "metadata": {},
   "source": [
    "Without using if construct,\n",
    "\n",
    "Write a function `quadratic(a, b, c)` that prints the two values of the real solutions (possibly equal) of a quadratic equation $ax^2 + bx + c = 0$.\n",
    "\n",
    "\n",
    "- For automatic testing purposes, the first printed solution should be $\\frac{-b - \\sqrt{\\Delta}}{2a}$ and the second $\\frac{-b + \\sqrt{\\Delta}}{2a}$.\n",
    "\n",
    "Special cases:\n",
    "- If `a` and `b` are both 0, it prints exactly \"a and b zero\" and returns nothing.\n",
    "- If $\\Delta$ (the discriminant) is negative, it prints exactly \"negative delta\" and returns nothing.\n",
    "- If `a`, `b`, or `c` are not numerical values, it prints exactly \"no numbers given\" and returns nothing.\n",
    "\n",
    "Hints:\n",
    "- Try calculating $x_1$ and $x_2$ with the extended formula and capture the exceptions that arise in different cases, i.e., follow the EAFP (Easier to Ask for Forgiveness than Permission) style.\n",
    "- It is possible to insert a `try` inside an `except`.\n"
   ]
  },
  {
   "cell_type": "code",
   "execution_count": 28,
   "metadata": {},
   "outputs": [],
   "source": [
    "from math import sqrt\n",
    "\n",
    "def quadratic(a, b, c):\n",
    "    try:\n",
    "        delta = b**2 - 4*a*c\n",
    "        x1 = (-b + sqrt(delta)) / (2*a)\n",
    "        x2 = (-b - sqrt(delta)) / (2*a)\n",
    "        print(round(x2,2), round(x1, 2))\n",
    "        return\n",
    "    except ZeroDivisionError:\n",
    "        try:\n",
    "            print(round(-c/b, 2), round(-c/b, 2))\n",
    "            return\n",
    "        except ZeroDivisionError:\n",
    "\n",
    "            print(\"a and b zero\")\n",
    "\n",
    "            return\n",
    "\n",
    "    \n",
    "    except ValueError:\n",
    "        print(\"negative delta\")\n",
    "        return\n",
    "    except TypeError:\n",
    "        print(\"no numbers given\")\n",
    "        return\n",
    "    \n"
   ]
  },
  {
   "cell_type": "markdown",
   "metadata": {},
   "source": [
    "Complete the provided Python program (not a function!) that asks the user for non-negative integers that represent measurements of the daily amount of rain. When the user enters the value 99999, the program prints the average of the numbers received before that value.\n",
    "This exercise was already assigned during the second lab (ex. 5), but now we are trying to solve it with exceptions.\n",
    "\n",
    "When the user enters the value 99999, by raising and later catching a user-defined exception, the program stops asking for integers, and prints the average of the numbers received before that value (eventually catching the exception generated by a zero division).\n",
    "\n",
    "If the user enters negative numbers, they are ignored: the program prints the string NI, for \"negative integer\", by raising and catching a user-defined exception, and goes on asking the next integer.\n",
    "\n",
    "If the user enters a value that cannot be converted to an integer, the program prints the string II, for \"invalid integer\", by catching the pre-defined exception, and goes on asking the next integer.\n",
    "\n",
    "The system will automatically input some values (shown, one at a time) to test your program.\n",
    "\n",
    "To make the automatic system work:\n",
    "\n",
    "- The input descriptive string should be exactly `R:` (with no spaces but with a newline at the end: hence you should use exactly `input(\"R:\\n\")`)\n",
    "- The output should be the print of a float value, mandatory rounded to 2 decimal digits using the `round` function, without any other characters.\n",
    "- If there is no valid integer, hence the number of positive integers is 0, the program prints the string `ZERO`.\n",
    "- In this exercise only you are allowed, and required, to use `print`.\n",
    "\n",
    "Details on what exceptions to raise and to catch are provided, as comments, in the code below.\n",
    "\n",
    "For your convenience, the outputs of Thonny console during two executions are provided.\n",
    "\n",
    "Execution 1: (user inputs underlined)\n"
   ]
  },
  {
   "cell_type": "code",
   "execution_count": null,
   "metadata": {},
   "outputs": [],
   "source": [
    "while "
   ]
  },
  {
   "cell_type": "code",
   "execution_count": 29,
   "metadata": {},
   "outputs": [
    {
     "data": {
      "text/plain": [
       "(2.0, 5.0)"
      ]
     },
     "execution_count": 29,
     "metadata": {},
     "output_type": "execute_result"
    }
   ],
   "source": [
    "quadratic(1, -7, 10)"
   ]
  },
  {
   "cell_type": "markdown",
   "metadata": {},
   "source": []
  }
 ],
 "metadata": {
  "kernelspec": {
   "display_name": ".venv",
   "language": "python",
   "name": "python3"
  },
  "language_info": {
   "codemirror_mode": {
    "name": "ipython",
    "version": 3
   },
   "file_extension": ".py",
   "mimetype": "text/x-python",
   "name": "python",
   "nbconvert_exporter": "python",
   "pygments_lexer": "ipython3",
   "version": "3.11.3"
  }
 },
 "nbformat": 4,
 "nbformat_minor": 2
}
