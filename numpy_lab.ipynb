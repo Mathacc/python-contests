{
 "cells": [
  {
   "cell_type": "markdown",
   "metadata": {},
   "source": [
    "Write a function `merge(a, b)` that takes a 2D NumPy numerical array `a` and a 1D NumPy numerical array `b` with the same size (the same number of elements), and:\n",
    "\n",
    "- Reshapes `b` so that it is a 2D array with the same shape as `a`.\n",
    "- Returns a new 2D NumPy array that, for each element `i, j`, contains the biggest value between `a[i, j]` and `b[i, j]`, as floats."
   ]
  },
  {
   "cell_type": "code",
   "execution_count": 8,
   "metadata": {},
   "outputs": [],
   "source": [
    "import numpy as np\n",
    "def merge(a,b):\n",
    "    a = a.astype(float)\n",
    "    b = np.reshape(b, a.shape).astype(float)\n",
    "    return np.where(a > b, a, b)"
   ]
  },
  {
   "cell_type": "code",
   "execution_count": 9,
   "metadata": {},
   "outputs": [
    {
     "name": "stdout",
     "output_type": "stream",
     "text": [
      "[[ 0. 20.  4.]\n",
      " [ 7.  4.  5.]]\n"
     ]
    }
   ],
   "source": [
    "print(merge(np.array([[0,20,4],[7,1,3]]),np.array([0,1,2,3,4,5])))"
   ]
  },
  {
   "cell_type": "markdown",
   "metadata": {},
   "source": [
    "Demeaning is the process in which the mean of a group of data is subtracted from any element of the group. In such a way, the mean of the transformed data is zero. \n",
    "\n",
    "Example: demeaning [7, 5] transforms the data into [1, -1].\n",
    "\n",
    "Using NumPy features, write a function `demean(a)` that takes a 2D array and returns a new 2D array with the same shape, where all columns have been demeaned, i.e., the mean of each column of the result array is equal to 0."
   ]
  },
  {
   "cell_type": "code",
   "execution_count": 12,
   "metadata": {},
   "outputs": [],
   "source": [
    "def demean(a):\n",
    "    return a - a.mean(axis=0)"
   ]
  },
  {
   "cell_type": "code",
   "execution_count": 13,
   "metadata": {},
   "outputs": [
    {
     "name": "stdout",
     "output_type": "stream",
     "text": [
      "[[-4.5 -4.5 -4.5]\n",
      " [-1.5 -1.5 -1.5]\n",
      " [ 1.5  1.5  1.5]\n",
      " [ 4.5  4.5  4.5]]\n"
     ]
    }
   ],
   "source": [
    "print(demean(np.array([[1,2,3],\n",
    "                [4,5,6],\n",
    "                [7,8,9],\n",
    "                [10,11,12]])))"
   ]
  },
  {
   "cell_type": "markdown",
   "metadata": {},
   "source": [
    "Write a function `colsum(a)` which, given a 2D NumPy array `a` with shape `(n, p)` (with `p >= 2`), returns a new array with shape `(1, 2)` where:\n",
    "\n",
    "- The first element is the sum of all the elements in the even columns (0, 2, 4, ...).\n",
    "- The second element is the sum of all the elements in the odd columns (1, 3, 5, ...)."
   ]
  },
  {
   "cell_type": "code",
   "execution_count": null,
   "metadata": {},
   "outputs": [],
   "source": [
    "def colsum(a):\n",
    "    even_sum = a[:, ::2].sum()\n",
    "    odd_sum = a[:, 1::2].sum()\n",
    "    return np.array([[even_sum, odd_sum]])"
   ]
  },
  {
   "cell_type": "markdown",
   "metadata": {},
   "source": [
    "Write a function `count_common(a, b)` that, given two NumPy 2D arrays `a` and `b` with the same shape (suppose without checking), counts how many common elements (i.e., elements with the same value AND the same position) there are in `a` and `b`.\n",
    "\n",
    "Elements of the arrays can have an arbitrary type."
   ]
  },
  {
   "cell_type": "code",
   "execution_count": 16,
   "metadata": {},
   "outputs": [],
   "source": [
    "import numpy as np\n",
    "\n",
    "def count_common(a,b):\n",
    "    #begin student code\n",
    "    return np.sum(a == b)"
   ]
  },
  {
   "cell_type": "code",
   "execution_count": 17,
   "metadata": {},
   "outputs": [
    {
     "name": "stdout",
     "output_type": "stream",
     "text": [
      "3\n"
     ]
    }
   ],
   "source": [
    "print(count_common(np.array([[1,3,8],\n",
    "              [4,5,2],\n",
    "              [3,2,9]]),np.array([[2,3,7],\n",
    "              [4,5,9],\n",
    "              [6,6,6]])))"
   ]
  },
  {
   "cell_type": "markdown",
   "metadata": {},
   "source": [
    "Write a function `checkerboard(m)` that creates and returns an `m x m` 2D NumPy array filled with a checkerboard pattern (alternating 0s and 1s - see examples) of integers. The function must work for every `m >= 0`.\n",
    "\n",
    "Tips: either create arrays filled with 0s and then modify them, or use the `fromfunction` creation."
   ]
  },
  {
   "cell_type": "code",
   "execution_count": null,
   "metadata": {},
   "outputs": [],
   "source": [
    "def checkerboard(m):\n",
    "    return np.indices((m, m)).sum(axis=0) % 2"
   ]
  },
  {
   "cell_type": "code",
   "execution_count": 21,
   "metadata": {},
   "outputs": [
    {
     "data": {
      "text/plain": [
       "array([[[0, 0, 0, 0, 0],\n",
       "        [1, 1, 1, 1, 1],\n",
       "        [2, 2, 2, 2, 2],\n",
       "        [3, 3, 3, 3, 3],\n",
       "        [4, 4, 4, 4, 4]],\n",
       "\n",
       "       [[0, 1, 2, 3, 4],\n",
       "        [0, 1, 2, 3, 4],\n",
       "        [0, 1, 2, 3, 4],\n",
       "        [0, 1, 2, 3, 4],\n",
       "        [0, 1, 2, 3, 4]]])"
      ]
     },
     "execution_count": 21,
     "metadata": {},
     "output_type": "execute_result"
    }
   ],
   "source": [
    "checkerboard(5)"
   ]
  },
  {
   "cell_type": "code",
   "execution_count": 32,
   "metadata": {},
   "outputs": [],
   "source": [
    "def zeroones(p, q):\n",
    "    new = np.zeros((p, q))\n",
    "    mask = np.arange(1,(p-2)*(q-2)+1).reshape(p-2, q-2)\n",
    "    new[1:-1, 1:-1] = mask\n",
    "    return new"
   ]
  },
  {
   "cell_type": "code",
   "execution_count": 33,
   "metadata": {},
   "outputs": [
    {
     "name": "stdout",
     "output_type": "stream",
     "text": [
      "[[0. 0. 0.]\n",
      " [0. 1. 0.]\n",
      " [0. 2. 0.]\n",
      " [0. 3. 0.]\n",
      " [0. 4. 0.]\n",
      " [0. 5. 0.]\n",
      " [0. 6. 0.]\n",
      " [0. 7. 0.]\n",
      " [0. 8. 0.]\n",
      " [0. 0. 0.]]\n"
     ]
    }
   ],
   "source": [
    "print(zeroones(10,3))\n"
   ]
  },
  {
   "cell_type": "code",
   "execution_count": 36,
   "metadata": {},
   "outputs": [],
   "source": [
    "def zerocolumns(a):\n",
    "    return a[:, np.logical_not(np.any(a == 0, axis=0))]"
   ]
  },
  {
   "cell_type": "code",
   "execution_count": 37,
   "metadata": {},
   "outputs": [
    {
     "name": "stdout",
     "output_type": "stream",
     "text": [
      "[[1 2]\n",
      " [3 1]\n",
      " [3 3]]\n"
     ]
    }
   ],
   "source": [
    "print(zerocolumns(np.array([[1,2,0],[3,1,1],[3,3,0]])))\n"
   ]
  },
  {
   "cell_type": "code",
   "execution_count": 38,
   "metadata": {},
   "outputs": [],
   "source": [
    "#do not insert print or tests\n",
    "import numpy as np\n",
    "def arraydistance(p, q):\n",
    "    result = np.fromfunction(lambda i, j: np.sqrt(i**2+j**2), (p, q))\n",
    "    return result"
   ]
  },
  {
   "cell_type": "code",
   "execution_count": 39,
   "metadata": {},
   "outputs": [
    {
     "name": "stdout",
     "output_type": "stream",
     "text": [
      "[]\n",
      "[[0.         1.         2.        ]\n",
      " [1.         1.41421356 2.23606798]\n",
      " [2.         2.23606798 2.82842712]]\n"
     ]
    }
   ],
   "source": [
    "print(arraydistance(0,0))\n",
    "print(arraydistance(3,3))\n"
   ]
  },
  {
   "cell_type": "code",
   "execution_count": null,
   "metadata": {},
   "outputs": [],
   "source": []
  }
 ],
 "metadata": {
  "kernelspec": {
   "display_name": ".venv",
   "language": "python",
   "name": "python3"
  },
  "language_info": {
   "codemirror_mode": {
    "name": "ipython",
    "version": 3
   },
   "file_extension": ".py",
   "mimetype": "text/x-python",
   "name": "python",
   "nbconvert_exporter": "python",
   "pygments_lexer": "ipython3",
   "version": "3.11.4"
  }
 },
 "nbformat": 4,
 "nbformat_minor": 2
}
