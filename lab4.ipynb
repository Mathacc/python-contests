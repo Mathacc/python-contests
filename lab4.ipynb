{
 "cells": [
  {
   "cell_type": "markdown",
   "metadata": {},
   "source": [
    "# OOP: classes, attributes, methods, magic methods"
   ]
  },
  {
   "cell_type": "markdown",
   "metadata": {},
   "source": [
    "Define a class Fraction to represent fractions as objects with three elements: sign, numerator, denominator, of types respectively str, int, int.\n",
    "The `__init__` method takes as parameters two integers `N` and `D`.\n",
    "\n",
    "- `N` represents the numerator with the sign of the fraction.\n",
    "- `D` represents the denominator. It must always be >0. If it is not passed, it assumes the default value of 1.\n",
    "\n",
    "The `__init__` method initializes the following private attributes:\n",
    "\n",
    "- `__sign`: a string of a single character that represents the sign of the fraction. It can assume only values '+' or '-'.\n",
    "- `__num`: a positive (>=0) integer that represents the numerator.\n",
    "- `__den`: a positive integer, different from 0 (i.e., >0), that represents the denominator.\n",
    "\n",
    "**NB!!** The `__init__` method checks that `N` and `D` are integers, and that `D > 0`. In case the parameters do not respect these conditions, all the attributes for sign, numerator, and denominator must be initialized to `None`.\n",
    "\n",
    "The class implements several methods:\n",
    "\n",
    "1. **`get` method**:\n",
    "    - Returns sign, numerator, and denominator as a tuple of type `(str, int, int)`.\n",
    "    - Example: fraction `+1/10` will be returned as the tuple `('+', 1, 10)`, while the fraction `-3/5` will be returned as `('-', 3, 5)`.\n",
    "\n",
    "2. **`value` method**:\n",
    "    - Takes as parameter an integer `d` and calculates the value of the fraction.\n",
    "    - Returns the value as a float, rounded with the `round` function at `d` decimals.\n",
    "\n",
    "3. **`reduce` method**:\n",
    "    - Modifies the fraction by reducing it to the lowest terms.\n",
    "    - Hint: you can use the `gcd` function from the `math` module.\n",
    "    - For testing purposes, the method must also return `self`.\n",
    "\n",
    "4. **`__eq__` magic method**:\n",
    "    - Checks if the fraction is equal to another fraction taken as a parameter.\n",
    "    - Two fractions are equal if their reduced forms are equal.\n",
    "    - Attention: the method must not reduce or modify the two objects. Do not use the `value` function and in general do not compare the float values of the fractions.\n",
    "\n",
    "5. **`__str__` magic method**:\n",
    "    - Returns a string representation of the fraction.\n",
    "    - The string is in the form `SN/D` (e.g., `+1/3`, `-20/40`), without spaces.\n",
    "\n",
    "6. **`__add__` magic method**:\n",
    "    - Adds the fraction on which it is called to another.\n",
    "    - The return value must be a new fraction, reduced to the lowest terms.\n",
    "    - Attention: the method must not reduce or modify the two original objects.\n",
    "    - If the resulting numerator is 0, return the reduced fraction with numerator 0 and the reduced denominator."
   ]
  },
  {
   "cell_type": "code",
   "execution_count": 34,
   "metadata": {},
   "outputs": [],
   "source": [
    "import math\n",
    "class Fraction:\n",
    "    def __init__(self, N, D=1):\n",
    "        if isinstance(N, int) and isinstance(D, int):\n",
    "            self._num = abs(N)\n",
    "            self._den = D\n",
    "            self._sign = '+' if N>=0 else '-'\n",
    "        else:\n",
    "            self._num = None\n",
    "            self._den = None\n",
    "            self._sign = None\n",
    "    def get(self):\n",
    "        return self._sign, self._num, self._den\n",
    "    def value(self, d):\n",
    "        return round(self._num/self._den, d)\n",
    "    def reduce(self):\n",
    "        common_den = math.gcd(self._num, self._den)\n",
    "        self._num = self._num if self._sign == '+' else -self._num\n",
    "        self._num //= common_den\n",
    "        self._den //= common_den\n",
    "        return Fraction(self._num, self._den)\n",
    "    def __eq__(self, other):\n",
    "        if not isinstance(other, Fraction):\n",
    "            return False\n",
    "        reduced_self = self.reduce()\n",
    "        reduced_other = other.reduce()\n",
    "        return (reduced_self._num == reduced_other._num and\n",
    "                reduced_self._den == reduced_other._den)\n",
    "    def __str__(self):\n",
    "        return f'{self._sign}{self._num}/{self._den}'\n",
    "    def __add__(self, other):\n",
    "        # Determine the actual numerators considering their signs\n",
    "        num1 = self._num if self._sign == '+' else -self._num\n",
    "        num2 = other._num if other._sign == '+' else -other._num\n",
    "        \n",
    "        # Perform the addition\n",
    "        new_num = num1 * other._den + num2 * self._den\n",
    "        new_den = self._den * other._den\n",
    "        \n",
    "        # Create a new Fraction object with the absolute value of the numerator\n",
    "        return Fraction(new_num, new_den).reduce()\n"
   ]
  },
  {
   "cell_type": "code",
   "execution_count": 35,
   "metadata": {},
   "outputs": [
    {
     "name": "stdout",
     "output_type": "stream",
     "text": [
      "+1/3\n",
      "('+', 1, 3)\n"
     ]
    }
   ],
   "source": [
    "print(Fraction(1,3))\n",
    "print(Fraction(1,3).get())\n"
   ]
  },
  {
   "cell_type": "code",
   "execution_count": 36,
   "metadata": {},
   "outputs": [
    {
     "name": "stdout",
     "output_type": "stream",
     "text": [
      "-2/25\n"
     ]
    }
   ],
   "source": [
    "print(Fraction(-50,625).reduce())"
   ]
  },
  {
   "cell_type": "code",
   "execution_count": 31,
   "metadata": {},
   "outputs": [
    {
     "name": "stdout",
     "output_type": "stream",
     "text": [
      "+0/1\n"
     ]
    }
   ],
   "source": [
    "print(Fraction(13,39)+Fraction(-14,42))\n"
   ]
  },
  {
   "cell_type": "code",
   "execution_count": 32,
   "metadata": {},
   "outputs": [
    {
     "name": "stdout",
     "output_type": "stream",
     "text": [
      "True\n"
     ]
    }
   ],
   "source": [
    "print(Fraction(6,300) == Fraction(3,150))"
   ]
  },
  {
   "cell_type": "markdown",
   "metadata": {},
   "source": [
    "Implement a class Chain that represents a broken line (also called polygonal chain, \"spezzata\" in Italian) on a cartesian plane.\n",
    "The broken line is represented as an ordered list of points (passed as a parameter to the `__init__` method; the order of the appearance of the points in the list indicates the order in which the points are connected). The list is memorized as the only attribute (private) of the class.\n",
    "\n",
    "Implement the following methods:\n",
    "\n",
    "1. **`delete_point`**:\n",
    "    - Deletes the last point of the broken line and returns the deleted point.\n",
    "\n",
    "2. **`add_point`**:\n",
    "    - Adds a new point at the end of the broken line and returns the added point.\n",
    "\n",
    "3. **`dist_extremes`**:\n",
    "    - Determines and returns (as a float) the Euclidean distance between the first and last point of the broken line.\n",
    "\n",
    "4. **`__len__`**:\n",
    "    - Determines and returns (converted to int) the length of the broken line as the sum of the segments that make it up.\n",
    "\n",
    "Points are instances of the `Point` class seen during lectures.\n",
    "\n",
    "Add to class `Point` a new method `distance` that returns the Euclidean distance (as a float) between the point and another passed as a parameter.\n"
   ]
  },
  {
   "cell_type": "code",
   "execution_count": 27,
   "metadata": {},
   "outputs": [],
   "source": [
    "import math\n",
    "class Point:\n",
    "    def __init__(self,xx,yy):\n",
    "        self.x=xx\n",
    "        self.y=yy\n",
    "    def whoareyou (self):\n",
    "        return self.x, self.y\n",
    "    def __str__(self):\n",
    "        return 'Point'+str(self.whoareyou())\n",
    "    #implement here the \"distance\" method\n",
    "    def distance(self, other):\n",
    "        return math.sqrt((float(self.x)-float(other.x))**2 + (float(self.y)-float(other.y))**2)\n",
    "\n",
    "    \n",
    "class Chain:\n",
    "    def __init__(self, list_of_points):\n",
    "        self._points = list_of_points\n",
    "\n",
    "    def delete_point(self):\n",
    "        return self._points.pop(-1)\n",
    "\n",
    "    def add_point(self, point):\n",
    "        self._points.append(point)\n",
    "        return point\n",
    "\n",
    "    def dist_extremes(self):\n",
    "        return self._points[0].distance(self._points[-1])\n",
    "\n",
    "    def __len__(self):\n",
    "        return sum([item.distance(self._points[i + 1]) for i, item in enumerate(self._points[:-1])])\n",
    "        "
   ]
  },
  {
   "cell_type": "code",
   "execution_count": 29,
   "metadata": {},
   "outputs": [
    {
     "ename": "TypeError",
     "evalue": "'float' object cannot be interpreted as an integer",
     "output_type": "error",
     "traceback": [
      "\u001b[0;31m---------------------------------------------------------------------------\u001b[0m",
      "\u001b[0;31mTypeError\u001b[0m                                 Traceback (most recent call last)",
      "Cell \u001b[0;32mIn[29], line 1\u001b[0m\n\u001b[0;32m----> 1\u001b[0m \u001b[38;5;28;43mlen\u001b[39;49m\u001b[43m(\u001b[49m\u001b[43mChain\u001b[49m\u001b[43m(\u001b[49m\u001b[43m[\u001b[49m\u001b[43mPoint\u001b[49m\u001b[43m(\u001b[49m\u001b[38;5;241;43m0\u001b[39;49m\u001b[43m,\u001b[49m\u001b[38;5;241;43m0\u001b[39;49m\u001b[43m)\u001b[49m\u001b[43m,\u001b[49m\u001b[43mPoint\u001b[49m\u001b[43m(\u001b[49m\u001b[38;5;241;43m0\u001b[39;49m\u001b[43m,\u001b[49m\u001b[38;5;241;43m3\u001b[39;49m\u001b[43m)\u001b[49m\u001b[43m,\u001b[49m\u001b[43mPoint\u001b[49m\u001b[43m(\u001b[49m\u001b[38;5;241;43m4\u001b[39;49m\u001b[43m,\u001b[49m\u001b[38;5;241;43m0\u001b[39;49m\u001b[43m)\u001b[49m\u001b[43m]\u001b[49m\u001b[43m)\u001b[49m\u001b[43m)\u001b[49m\n",
      "\u001b[0;31mTypeError\u001b[0m: 'float' object cannot be interpreted as an integer"
     ]
    }
   ],
   "source": [
    "len(Chain([Point(0,0),Point(0,3),Point(4,0)]))"
   ]
  },
  {
   "cell_type": "code",
   "execution_count": 19,
   "metadata": {},
   "outputs": [
    {
     "ename": "TypeError",
     "evalue": "'float' object cannot be interpreted as an integer",
     "output_type": "error",
     "traceback": [
      "\u001b[0;31m---------------------------------------------------------------------------\u001b[0m",
      "\u001b[0;31mTypeError\u001b[0m                                 Traceback (most recent call last)",
      "Cell \u001b[0;32mIn[19], line 1\u001b[0m\n\u001b[0;32m----> 1\u001b[0m \u001b[38;5;28mprint\u001b[39m(\u001b[38;5;28;43mlen\u001b[39;49m\u001b[43m(\u001b[49m\u001b[43mChain\u001b[49m\u001b[43m(\u001b[49m\u001b[43m[\u001b[49m\u001b[43mPoint\u001b[49m\u001b[43m(\u001b[49m\u001b[38;5;241;43m0\u001b[39;49m\u001b[43m,\u001b[49m\u001b[38;5;241;43m0\u001b[39;49m\u001b[43m)\u001b[49m\u001b[43m,\u001b[49m\u001b[43mPoint\u001b[49m\u001b[43m(\u001b[49m\u001b[38;5;241;43m0\u001b[39;49m\u001b[43m,\u001b[49m\u001b[38;5;241;43m3\u001b[39;49m\u001b[43m)\u001b[49m\u001b[43m,\u001b[49m\u001b[43mPoint\u001b[49m\u001b[43m(\u001b[49m\u001b[38;5;241;43m4\u001b[39;49m\u001b[43m,\u001b[49m\u001b[38;5;241;43m0\u001b[39;49m\u001b[43m)\u001b[49m\u001b[43m]\u001b[49m\u001b[43m)\u001b[49m\u001b[43m)\u001b[49m)\n\u001b[1;32m      2\u001b[0m \u001b[38;5;28mprint\u001b[39m(Chain([Point(\u001b[38;5;241m0\u001b[39m,\u001b[38;5;241m0\u001b[39m),Point(\u001b[38;5;241m0\u001b[39m,\u001b[38;5;241m3\u001b[39m),Point(\u001b[38;5;241m4\u001b[39m,\u001b[38;5;241m0\u001b[39m)])\u001b[38;5;241m.\u001b[39mdist_extremes())\n\u001b[1;32m      3\u001b[0m \u001b[38;5;28mprint\u001b[39m(Chain([Point(\u001b[38;5;241m0\u001b[39m,\u001b[38;5;241m0\u001b[39m),Point(\u001b[38;5;241m0\u001b[39m,\u001b[38;5;241m3\u001b[39m),Point(\u001b[38;5;241m4\u001b[39m,\u001b[38;5;241m0\u001b[39m)])\u001b[38;5;241m.\u001b[39madd_point(Point(\u001b[38;5;241m0\u001b[39m,\u001b[38;5;241m0\u001b[39m)))\n",
      "\u001b[0;31mTypeError\u001b[0m: 'float' object cannot be interpreted as an integer"
     ]
    }
   ],
   "source": [
    "print(len(Chain([Point(0,0),Point(0,3),Point(4,0)])))\n",
    "print(Chain([Point(0,0),Point(0,3),Point(4,0)]).dist_extremes())\n",
    "print(Chain([Point(0,0),Point(0,3),Point(4,0)]).add_point(Point(0,0)))\n",
    "print(len(Chain([Point(0,0),Point(0,3),Point(4,0),Point(0,0)])))\n",
    "print(Chain([Point(0,0),Point(0,3),Point(4,0),Point(0,0)]).dist_extremes())\n",
    "print(Chain([Point(0,0),Point(0,3),Point(4,0)]).delete_point())\n"
   ]
  },
  {
   "cell_type": "code",
   "execution_count": null,
   "metadata": {},
   "outputs": [],
   "source": []
  }
 ],
 "metadata": {
  "kernelspec": {
   "display_name": ".venv",
   "language": "python",
   "name": "python3"
  },
  "language_info": {
   "codemirror_mode": {
    "name": "ipython",
    "version": 3
   },
   "file_extension": ".py",
   "mimetype": "text/x-python",
   "name": "python",
   "nbconvert_exporter": "python",
   "pygments_lexer": "ipython3",
   "version": "3.11.4"
  }
 },
 "nbformat": 4,
 "nbformat_minor": 2
}
